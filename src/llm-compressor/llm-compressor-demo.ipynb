{
 "cells": [
  {
   "cell_type": "markdown",
   "metadata": {},
   "source": [
    "## LLM Compressor Workbench -- Getting Started\n",
    "\n",
    "This notebook will demonstrate how common [LLM Compressor](https://github.com/vllm-project/llm-compressor) flows can be run on the [opendatahub/llmcompressor-workbench](https://quay.io/repository/opendatahub/llmcompressor-workbench) image.\n",
    "\n",
    "We will show how a user can compress and evaluate a Large Language Model, first without data and then with a calibration dataset.\n",
    "\n",
    "The notebook will detect if a GPU is available. If one is not available, it will demonstrate an abbreviated run, so users without GPU access can still get a feel for `llm-compressor`.\n",
    "\n",
    "\n",
    "<div class=\"alert alert-block alert-info\">\n",
    "<b>Note:</b> If you are not using the Workbench image, just be sure to have lm_eval>=0.4.8 and llmcompressor>=0.5.1 installed\n",
    "</div>"
   ]
  },
  {
   "cell_type": "markdown",
   "metadata": {},
   "source": [
    "### 1\\) Data-Free Model Compression"
   ]
  },
  {
   "cell_type": "code",
   "execution_count": 1,
   "metadata": {},
   "outputs": [],
   "source": [
    "import torch\n",
    "use_gpu = torch.cuda.is_available()"
   ]
  },
  {
   "cell_type": "code",
   "execution_count": 2,
   "metadata": {},
   "outputs": [],
   "source": [
    "from llmcompressor.modifiers.quantization import QuantizationModifier\n",
    "\n",
    "# model to compress\n",
    "model_id = \"Qwen/Qwen2.5-7B-Instruct\" #\"TinyLlama/TinyLlama-1.1B-Chat-v1.0\"\n",
    "\n",
    "# This recipe will quantize all Linear layers except those in the `lm_head`,\n",
    "#  which is often sensitive to quantization. The W4A16 scheme compresses\n",
    "#  weights to 4-bit integers while retaining 16-bit activations.\n",
    "recipe = QuantizationModifier(\n",
    "    targets=\"Linear\", scheme=\"W4A16\", ignore=[\"lm_head\"]\n",
    ")"
   ]
  },
  {
   "cell_type": "code",
   "execution_count": 3,
   "metadata": {},
   "outputs": [
    {
     "name": "stderr",
     "output_type": "stream",
     "text": [
      "Sliding Window Attention is enabled but not implemented for `sdpa`; unexpected results may be encountered.\n"
     ]
    },
    {
     "data": {
      "application/vnd.jupyter.widget-view+json": {
       "model_id": "d8617cb534dd47ee841852ca41539429",
       "version_major": 2,
       "version_minor": 0
      },
      "text/plain": [
       "Loading checkpoint shards:   0%|          | 0/4 [00:00<?, ?it/s]"
      ]
     },
     "metadata": {},
     "output_type": "display_data"
    }
   ],
   "source": [
    "# Load up model using huggingface API\n",
    "from transformers import AutoModelForCausalLM, AutoTokenizer\n",
    "\n",
    "model = AutoModelForCausalLM.from_pretrained(\n",
    "    model_id, device_map=\"auto\", torch_dtype=\"auto\"\n",
    ")\n",
    "tokenizer = AutoTokenizer.from_pretrained(model_id, trust_remote_code=True)"
   ]
  },
  {
   "cell_type": "code",
   "execution_count": 4,
   "metadata": {},
   "outputs": [
    {
     "name": "stdout",
     "output_type": "stream",
     "text": [
      "INFO 09-13 07:20:17 [importing.py:53] Triton module has been replaced with a placeholder.\n",
      "INFO 09-13 07:20:18 [__init__.py:239] Automatically detected platform cuda.\n",
      "INFO 09-13 07:20:28 [config.py:717] This model supports multiple tasks: {'embed', 'classify', 'score', 'reward', 'generate'}. Defaulting to 'generate'.\n",
      "INFO 09-13 07:20:28 [config.py:2003] Chunked prefill is enabled with max_num_batched_tokens=8192.\n"
     ]
    },
    {
     "name": "stderr",
     "output_type": "stream",
     "text": [
      "/opt/app-root/lib64/python3.11/site-packages/llmcompressor/pytorch/__init__.py:19: UserWarning: torch.compile is not supported by llmcompressor for torch 2.0.x\n",
      "  warnings.warn(\n"
     ]
    },
    {
     "name": "stdout",
     "output_type": "stream",
     "text": [
      "WARNING 09-13 07:20:29 [utils.py:2382] We must use the `spawn` multiprocessing start method. Overriding VLLM_WORKER_MULTIPROC_METHOD to 'spawn'. See https://docs.vllm.ai/en/latest/getting_started/troubleshooting.html#python-multiprocessing for more information. Reason: CUDA is initialized\n",
      "INFO 09-13 07:20:33 [__init__.py:239] Automatically detected platform cuda.\n",
      "INFO 09-13 07:20:36 [core.py:58] Initializing a V1 LLM engine (v0.8.5) with config: model='Qwen/Qwen2.5-7B-Instruct', speculative_config=None, tokenizer='Qwen/Qwen2.5-7B-Instruct', skip_tokenizer_init=False, tokenizer_mode=auto, revision=None, override_neuron_config=None, tokenizer_revision=None, trust_remote_code=False, dtype=torch.bfloat16, max_seq_len=32768, download_dir=None, load_format=LoadFormat.AUTO, tensor_parallel_size=1, pipeline_parallel_size=1, disable_custom_all_reduce=False, quantization=None, enforce_eager=False, kv_cache_dtype=auto,  device_config=cuda, decoding_config=DecodingConfig(guided_decoding_backend='auto', reasoning_backend=None), observability_config=ObservabilityConfig(show_hidden_metrics=False, otlp_traces_endpoint=None, collect_model_forward_time=False, collect_model_execute_time=False), seed=1234, served_model_name=Qwen/Qwen2.5-7B-Instruct, num_scheduler_steps=1, multi_step_stream_outputs=True, enable_prefix_caching=True, chunked_prefill_enabled=True, use_async_output_proc=True, disable_mm_preprocessor_cache=False, mm_processor_kwargs=None, pooler_config=None, compilation_config={\"level\":3,\"custom_ops\":[\"none\"],\"splitting_ops\":[\"vllm.unified_attention\",\"vllm.unified_attention_with_output\"],\"use_inductor\":true,\"compile_sizes\":[],\"use_cudagraph\":true,\"cudagraph_num_of_warmups\":1,\"cudagraph_capture_sizes\":[512,504,496,488,480,472,464,456,448,440,432,424,416,408,400,392,384,376,368,360,352,344,336,328,320,312,304,296,288,280,272,264,256,248,240,232,224,216,208,200,192,184,176,168,160,152,144,136,128,120,112,104,96,88,80,72,64,56,48,40,32,24,16,8,4,2,1],\"max_capture_size\":512}\n",
      "WARNING 09-13 07:20:36 [utils.py:2522] Methods determine_num_available_blocks,device_config,get_cache_block_size_bytes,initialize_cache not implemented in <vllm.v1.worker.gpu_worker.Worker object at 0x7f497cb17e90>\n",
      "INFO 09-13 07:20:36 [parallel_state.py:1004] rank 0 in world size 1 is assigned as DP rank 0, PP rank 0, TP rank 0\n",
      "INFO 09-13 07:20:36 [cuda.py:221] Using Flash Attention backend on V1 engine.\n",
      "WARNING 09-13 07:20:36 [topk_topp_sampler.py:69] FlashInfer is not available. Falling back to the PyTorch-native implementation of top-p & top-k sampling. For the best performance, please install FlashInfer.\n",
      "INFO 09-13 07:20:36 [gpu_model_runner.py:1329] Starting to load model Qwen/Qwen2.5-7B-Instruct...\n",
      "INFO 09-13 07:20:37 [weight_utils.py:265] Using model weights format ['*.safetensors']\n"
     ]
    },
    {
     "name": "stderr",
     "output_type": "stream",
     "text": [
      "Loading safetensors checkpoint shards:   0% Completed | 0/4 [00:00<?, ?it/s]\n",
      "Loading safetensors checkpoint shards:  25% Completed | 1/4 [00:00<00:01,  2.30it/s]\n",
      "Loading safetensors checkpoint shards:  50% Completed | 2/4 [00:00<00:00,  2.01it/s]\n",
      "Loading safetensors checkpoint shards:  75% Completed | 3/4 [00:01<00:00,  1.94it/s]\n",
      "Loading safetensors checkpoint shards: 100% Completed | 4/4 [00:02<00:00,  1.97it/s]\n",
      "Loading safetensors checkpoint shards: 100% Completed | 4/4 [00:02<00:00,  1.99it/s]\n",
      "\n"
     ]
    },
    {
     "name": "stdout",
     "output_type": "stream",
     "text": [
      "INFO 09-13 07:20:39 [loader.py:458] Loading weights took 2.11 seconds\n",
      "INFO 09-13 07:20:40 [gpu_model_runner.py:1347] Model loading took 14.2488 GiB and 2.948042 seconds\n",
      "INFO 09-13 07:20:46 [backends.py:420] Using cache directory: /opt/app-root/src/.cache/vllm/torch_compile_cache/ab94994109/rank_0_0 for vLLM's torch.compile\n",
      "INFO 09-13 07:20:46 [backends.py:430] Dynamo bytecode transform time: 6.50 s\n",
      "INFO 09-13 07:20:52 [backends.py:118] Directly load the compiled graph(s) for shape None from the cache, took 5.035 s\n",
      "INFO 09-13 07:20:53 [monitor.py:33] torch.compile takes 6.50 s in total\n",
      "INFO 09-13 07:20:54 [kv_cache_utils.py:634] GPU KV cache size: 170,384 tokens\n",
      "INFO 09-13 07:20:54 [kv_cache_utils.py:637] Maximum concurrency for 32,768 tokens per request: 5.20x\n",
      "INFO 09-13 07:21:16 [gpu_model_runner.py:1686] Graph capturing finished in 22 secs, took 0.45 GiB\n",
      "INFO 09-13 07:21:16 [core.py:159] init engine (profile, create kv cache, warmup model) took 36.62 seconds\n",
      "INFO 09-13 07:21:16 [core_client.py:439] Core engine process 0 ready.\n"
     ]
    },
    {
     "name": "stderr",
     "output_type": "stream",
     "text": [
      "[2025-09-13 07:21:32] INFO task.py:420: Building contexts for gsm8k on rank 0...\n",
      "100%|██████████| 1319/1319 [00:03<00:00, 356.49it/s]\n",
      "[2025-09-13 07:21:36] INFO evaluator.py:517: Running generate_until requests\n",
      "Running generate_until requests:   0%|          | 0/1319 [00:00<?, ?it/s]"
     ]
    },
    {
     "data": {
      "application/vnd.jupyter.widget-view+json": {
       "model_id": "269bf0b54804447bbf0255612db02bde",
       "version_major": 2,
       "version_minor": 0
      },
      "text/plain": [
       "Processed prompts:   0%|          | 0/1319 [00:00<?, ?it/s, est. speed input: 0.00 toks/s, output: 0.00 toks/s…"
      ]
     },
     "metadata": {},
     "output_type": "display_data"
    },
    {
     "name": "stderr",
     "output_type": "stream",
     "text": [
      "Running generate_until requests: 100%|██████████| 1319/1319 [02:48<00:00,  7.82it/s] \n",
      "[rank0]:[W913 07:24:28.305679527 ProcessGroupNCCL.cpp:1496] Warning: WARNING: destroy_process_group() was not called before program exit, which can leak resources. For more info, please see https://pytorch.org/docs/stable/distributed.html#shutdown (function operator())\n"
     ]
    }
   ],
   "source": [
    "import lm_eval\n",
    "from lm_eval.utils import make_table\n",
    "\n",
    "results_baseline = lm_eval.simple_evaluate(\n",
    "    model=\"vllm\" if use_gpu else \"hf\",\n",
    "    model_args={\n",
    "        \"pretrained\": model_id,\n",
    "        \"add_bos_token\": True,\n",
    "        \"device\": \"auto\"\n",
    "    },\n",
    "    tasks=[\"gsm8k\"],\n",
    "    batch_size=\"auto\" if use_gpu else 4,\n",
    "    limit=None if use_gpu else 4,\n",
    ")"
   ]
  },
  {
   "cell_type": "code",
   "execution_count": 5,
   "metadata": {},
   "outputs": [
    {
     "name": "stdout",
     "output_type": "stream",
     "text": [
      "|Tasks|Version|     Filter     |n-shot|  Metric   |   |Value |   |Stderr|\n",
      "|-----|------:|----------------|-----:|-----------|---|-----:|---|-----:|\n",
      "|gsm8k|      3|flexible-extract|     5|exact_match|↑  |0.8385|±  |0.0101|\n",
      "|     |       |strict-match    |     5|exact_match|↑  |0.8089|±  |0.0108|\n",
      "\n"
     ]
    }
   ],
   "source": [
    "print(make_table(results_baseline))"
   ]
  },
  {
   "cell_type": "code",
   "execution_count": 6,
   "metadata": {},
   "outputs": [
    {
     "name": "stdout",
     "output_type": "stream",
     "text": [
      "2025-09-13T07:24:29.943238+0000 | reset | INFO - Compression lifecycle reset\n"
     ]
    },
    {
     "name": "stderr",
     "output_type": "stream",
     "text": [
      "Logging all LLM Compressor modifier-level logs to sparse_logs/13-09-2025_07.24.29.log\n",
      "[2025-09-13 07:24:29] INFO logger.py:391: Logging all LLM Compressor modifier-level logs to sparse_logs/13-09-2025_07.24.29.log\n"
     ]
    },
    {
     "name": "stdout",
     "output_type": "stream",
     "text": [
      "2025-09-13T07:24:29.946181+0000 | from_modifiers | INFO - Creating recipe from modifiers\n"
     ]
    },
    {
     "name": "stderr",
     "output_type": "stream",
     "text": [
      "manager stage: Modifiers initialized\n"
     ]
    },
    {
     "name": "stdout",
     "output_type": "stream",
     "text": [
      "2025-09-13T07:24:32.686849+0000 | initialize | INFO - Compression lifecycle initialized for 1 modifiers\n"
     ]
    },
    {
     "name": "stderr",
     "output_type": "stream",
     "text": [
      "manager stage: Modifiers finalized\n"
     ]
    },
    {
     "name": "stdout",
     "output_type": "stream",
     "text": [
      "2025-09-13T07:24:32.688037+0000 | finalize | INFO - Compression lifecycle finalized for 1 modifiers\n",
      "2025-09-13T07:24:32.688517+0000 | post_process | WARNING - Optimized model is not saved. To save, please provide`output_dir` as input arg.Ex. `oneshot(..., output_dir=...)`\n"
     ]
    }
   ],
   "source": [
    "# Run compression using `oneshot`\n",
    "from llmcompressor import oneshot\n",
    "\n",
    "model = oneshot(model=model, recipe=recipe, tokenizer=tokenizer)"
   ]
  },
  {
   "cell_type": "code",
   "execution_count": 7,
   "metadata": {},
   "outputs": [
    {
     "name": "stdout",
     "output_type": "stream",
     "text": [
      "2025-09-13T07:24:32.692386+0000 | save_pretrained_wrapper | INFO - Fetching state_dict - this may take some time\n",
      "2025-09-13T07:24:51.999153+0000 | save_pretrained_wrapper | INFO - Fetching compressor\n",
      "2025-09-13T07:24:51.999899+0000 | get_model_compressor | INFO - skip_sparsity_compression_stats set to True. Skipping sparsity compression statistic calculations. No sparsity compressor will be applied.\n"
     ]
    },
    {
     "name": "stderr",
     "output_type": "stream",
     "text": [
      "Quantized Compression: 100%|██████████| 731/731 [00:42<00:00, 17.40it/s]"
     ]
    },
    {
     "name": "stdout",
     "output_type": "stream",
     "text": [
      "2025-09-13T07:25:34.013183+0000 | save_pretrained_wrapper | INFO - Saving compressed model to disk\n"
     ]
    },
    {
     "name": "stderr",
     "output_type": "stream",
     "text": [
      "\n"
     ]
    }
   ],
   "source": [
    "# Save model and tokenizer\n",
    "model_dir = \"./\" + model_id.split(\"/\")[-1] + \"-W4A16\"\n",
    "model.save_pretrained(model_dir)\n",
    "tokenizer.save_pretrained(model_dir);"
   ]
  },
  {
   "cell_type": "markdown",
   "metadata": {},
   "source": [
    "### 2\\) Evaluate compressed model using open-source `lm_eval` framework\n",
    "\n",
    "We will evaluate the performance of the model on the [`wikitext`](https://paperswithcode.com/dataset/wikitext-2) language modeling dataset"
   ]
  },
  {
   "cell_type": "code",
   "execution_count": 8,
   "metadata": {},
   "outputs": [
    {
     "name": "stderr",
     "output_type": "stream",
     "text": [
      "[2025-09-13 07:26:03] INFO evaluator.py:169: Setting random seed to 0 | Setting numpy seed to 1234 | Setting torch manual seed to 1234 | Setting fewshot manual seed to 1234\n",
      "[2025-09-13 07:26:03] INFO evaluator.py:193: Initializing vllm model, with arguments: {'pretrained': './Qwen2.5-7B-Instruct-W4A16', 'add_bos_token': True, 'device': 'auto'}\n"
     ]
    },
    {
     "name": "stdout",
     "output_type": "stream",
     "text": [
      "INFO 09-13 07:26:03 [config.py:717] This model supports multiple tasks: {'embed', 'classify', 'score', 'reward', 'generate'}. Defaulting to 'generate'.\n",
      "INFO 09-13 07:26:03 [config.py:2003] Chunked prefill is enabled with max_num_batched_tokens=8192.\n"
     ]
    },
    {
     "name": "stderr",
     "output_type": "stream",
     "text": [
      "/opt/app-root/lib64/python3.11/site-packages/llmcompressor/pytorch/__init__.py:19: UserWarning: torch.compile is not supported by llmcompressor for torch 2.0.x\n",
      "  warnings.warn(\n"
     ]
    },
    {
     "name": "stdout",
     "output_type": "stream",
     "text": [
      "INFO 09-13 07:26:07 [__init__.py:239] Automatically detected platform cuda.\n",
      "INFO 09-13 07:26:10 [core.py:58] Initializing a V1 LLM engine (v0.8.5) with config: model='./Qwen2.5-7B-Instruct-W4A16', speculative_config=None, tokenizer='./Qwen2.5-7B-Instruct-W4A16', skip_tokenizer_init=False, tokenizer_mode=auto, revision=None, override_neuron_config=None, tokenizer_revision=None, trust_remote_code=False, dtype=torch.bfloat16, max_seq_len=32768, download_dir=None, load_format=LoadFormat.AUTO, tensor_parallel_size=1, pipeline_parallel_size=1, disable_custom_all_reduce=False, quantization=compressed-tensors, enforce_eager=False, kv_cache_dtype=auto,  device_config=cuda, decoding_config=DecodingConfig(guided_decoding_backend='auto', reasoning_backend=None), observability_config=ObservabilityConfig(show_hidden_metrics=False, otlp_traces_endpoint=None, collect_model_forward_time=False, collect_model_execute_time=False), seed=1234, served_model_name=./Qwen2.5-7B-Instruct-W4A16, num_scheduler_steps=1, multi_step_stream_outputs=True, enable_prefix_caching=True, chunked_prefill_enabled=True, use_async_output_proc=True, disable_mm_preprocessor_cache=False, mm_processor_kwargs=None, pooler_config=None, compilation_config={\"level\":3,\"custom_ops\":[\"none\"],\"splitting_ops\":[\"vllm.unified_attention\",\"vllm.unified_attention_with_output\"],\"use_inductor\":true,\"compile_sizes\":[],\"use_cudagraph\":true,\"cudagraph_num_of_warmups\":1,\"cudagraph_capture_sizes\":[512,504,496,488,480,472,464,456,448,440,432,424,416,408,400,392,384,376,368,360,352,344,336,328,320,312,304,296,288,280,272,264,256,248,240,232,224,216,208,200,192,184,176,168,160,152,144,136,128,120,112,104,96,88,80,72,64,56,48,40,32,24,16,8,4,2,1],\"max_capture_size\":512}\n",
      "WARNING 09-13 07:26:10 [utils.py:2522] Methods determine_num_available_blocks,device_config,get_cache_block_size_bytes,initialize_cache not implemented in <vllm.v1.worker.gpu_worker.Worker object at 0x7fc6bde69250>\n",
      "INFO 09-13 07:26:10 [parallel_state.py:1004] rank 0 in world size 1 is assigned as DP rank 0, PP rank 0, TP rank 0\n",
      "INFO 09-13 07:26:10 [cuda.py:221] Using Flash Attention backend on V1 engine.\n",
      "WARNING 09-13 07:26:10 [topk_topp_sampler.py:69] FlashInfer is not available. Falling back to the PyTorch-native implementation of top-p & top-k sampling. For the best performance, please install FlashInfer.\n",
      "INFO 09-13 07:26:10 [gpu_model_runner.py:1329] Starting to load model ./Qwen2.5-7B-Instruct-W4A16...\n",
      "INFO 09-13 07:26:10 [compressed_tensors_wNa16.py:94] Using MarlinLinearKernel for CompressedTensorsWNA16\n"
     ]
    },
    {
     "name": "stderr",
     "output_type": "stream",
     "text": [
      "Loading safetensors checkpoint shards:   0% Completed | 0/2 [00:00<?, ?it/s]\n",
      "Loading safetensors checkpoint shards:  50% Completed | 1/2 [00:00<00:00,  7.26it/s]\n",
      "Loading safetensors checkpoint shards: 100% Completed | 2/2 [00:00<00:00,  2.28it/s]\n",
      "Loading safetensors checkpoint shards: 100% Completed | 2/2 [00:00<00:00,  2.54it/s]\n",
      "\n"
     ]
    },
    {
     "name": "stdout",
     "output_type": "stream",
     "text": [
      "INFO 09-13 07:26:11 [loader.py:458] Loading weights took 0.91 seconds\n",
      "WARNING 09-13 07:26:12 [kv_cache.py:128] Using Q scale 1.0 and prob scale 1.0 with fp8 attention. This may cause accuracy issues. Please make sure Q/prob scaling factors are available in the fp8 checkpoint.\n",
      "INFO 09-13 07:26:12 [gpu_model_runner.py:1347] Model loading took 5.1816 GiB and 1.158507 seconds\n",
      "INFO 09-13 07:26:20 [backends.py:420] Using cache directory: /opt/app-root/src/.cache/vllm/torch_compile_cache/9b199998ee/rank_0_0 for vLLM's torch.compile\n",
      "INFO 09-13 07:26:20 [backends.py:430] Dynamo bytecode transform time: 8.46 s\n",
      "INFO 09-13 07:26:23 [backends.py:136] Cache the graph of shape None for later use\n",
      "INFO 09-13 07:26:52 [backends.py:148] Compiling a graph for general shape takes 30.98 s\n",
      "INFO 09-13 07:27:07 [monitor.py:33] torch.compile takes 39.44 s in total\n",
      "INFO 09-13 07:27:08 [kv_cache_utils.py:634] GPU KV cache size: 332,352 tokens\n",
      "INFO 09-13 07:27:08 [kv_cache_utils.py:637] Maximum concurrency for 32,768 tokens per request: 10.14x\n",
      "INFO 09-13 07:27:38 [gpu_model_runner.py:1686] Graph capturing finished in 29 secs, took 0.53 GiB\n",
      "INFO 09-13 07:27:38 [core.py:159] init engine (profile, create kv cache, warmup model) took 85.80 seconds\n",
      "INFO 09-13 07:27:38 [core_client.py:439] Core engine process 0 ready.\n"
     ]
    },
    {
     "name": "stderr",
     "output_type": "stream",
     "text": [
      "[2025-09-13 07:27:52] INFO task.py:420: Building contexts for gsm8k on rank 0...\n",
      "100%|██████████| 1319/1319 [00:03<00:00, 346.91it/s]\n",
      "[2025-09-13 07:27:56] INFO evaluator.py:517: Running generate_until requests\n",
      "Running generate_until requests:   0%|          | 0/1319 [00:00<?, ?it/s]"
     ]
    },
    {
     "data": {
      "application/vnd.jupyter.widget-view+json": {
       "model_id": "949f3561f01b4843afcd859900fbc1ce",
       "version_major": 2,
       "version_minor": 0
      },
      "text/plain": [
       "Processed prompts:   0%|          | 0/1319 [00:00<?, ?it/s, est. speed input: 0.00 toks/s, output: 0.00 toks/s…"
      ]
     },
     "metadata": {},
     "output_type": "display_data"
    },
    {
     "name": "stderr",
     "output_type": "stream",
     "text": [
      "Running generate_until requests: 100%|██████████| 1319/1319 [03:18<00:00,  6.64it/s] \n",
      "[rank0]:[W913 07:31:19.830507743 ProcessGroupNCCL.cpp:1496] Warning: WARNING: destroy_process_group() was not called before program exit, which can leak resources. For more info, please see https://pytorch.org/docs/stable/distributed.html#shutdown (function operator())\n"
     ]
    }
   ],
   "source": [
    "import lm_eval\n",
    "from lm_eval.utils import make_table\n",
    "\n",
    "results_w4a16 = lm_eval.simple_evaluate(\n",
    "    model=\"vllm\" if use_gpu else \"hf\",\n",
    "    model_args={\n",
    "        \"pretrained\": model_dir,\n",
    "        \"add_bos_token\": True,\n",
    "        \"device\": \"auto\"\n",
    "    },\n",
    "    tasks=[\"gsm8k\"],\n",
    "    batch_size=\"auto\" if use_gpu else 4,\n",
    "    limit=None if use_gpu else 4,\n",
    ")"
   ]
  },
  {
   "cell_type": "code",
   "execution_count": 9,
   "metadata": {},
   "outputs": [
    {
     "name": "stdout",
     "output_type": "stream",
     "text": [
      "|Tasks|Version|     Filter     |n-shot|  Metric   |   |Value |   |Stderr|\n",
      "|-----|------:|----------------|-----:|-----------|---|-----:|---|-----:|\n",
      "|gsm8k|      3|flexible-extract|     5|exact_match|↑  |0.8279|±  |0.0104|\n",
      "|     |       |strict-match    |     5|exact_match|↑  |0.8059|±  |0.0109|\n",
      "\n"
     ]
    }
   ],
   "source": [
    "print(make_table(results_w4a16))"
   ]
  },
  {
   "cell_type": "markdown",
   "metadata": {},
   "source": [
    "### 3\\) Calibrated Compression with a Dataset\n",
    "\n",
    "Some more advanced compression algorithms require a small dataset of calibration samples that are meant to be a representative random subset of the language the model will see at inference.\n",
    "\n",
    "We will show how the previous section can be augmented with a calibration dataset and GPTQ, one of the first published LLM compression algorithms.\n",
    "\n",
    "<div class=\"alert alert-block alert-info\">\n",
    "<b>Note:</b> This will take several minutes if no GPU is available\n",
    "</div>"
   ]
  },
  {
   "cell_type": "code",
   "execution_count": 10,
   "metadata": {},
   "outputs": [],
   "source": [
    "# We will use a new recipe running GPTQ (https://arxiv.org/abs/2210.17323)\n",
    "# to reduce error caused by quantization. GPTQ requires a calibration dataset.\n",
    "from llmcompressor.modifiers.quantization import GPTQModifier\n",
    "\n",
    "recipe = GPTQModifier(targets=\"Linear\", scheme=\"W4A16\", ignore=[\"lm_head\"])"
   ]
  },
  {
   "cell_type": "code",
   "execution_count": 11,
   "metadata": {},
   "outputs": [
    {
     "data": {
      "application/vnd.jupyter.widget-view+json": {
       "model_id": "3594b028bfa8471cbc5752bb377edc79",
       "version_major": 2,
       "version_minor": 0
      },
      "text/plain": [
       "Map:   0%|          | 0/512 [00:00<?, ? examples/s]"
      ]
     },
     "metadata": {},
     "output_type": "display_data"
    }
   ],
   "source": [
    "from datasets import load_dataset\n",
    "\n",
    "# Create the calibration dataset, using Huggingface datasets API\n",
    "dataset_id = \"HuggingFaceH4/ultrachat_200k\"\n",
    "\n",
    "# Select number of samples. 512 samples is a good place to start.\n",
    "# Increasing the number of samples can improve accuracy.\n",
    "num_calibration_samples = 512 if use_gpu else 4\n",
    "max_sequence_length = 2048 if use_gpu else 16\n",
    "\n",
    "# Load dataset\n",
    "ds = load_dataset(dataset_id, split=\"train_sft\")\n",
    "# Shuffle and grab only the number of samples we need\n",
    "ds = ds.shuffle(seed=42).select(range(num_calibration_samples))\n",
    "\n",
    "# Preprocess and tokenize into format the model uses\n",
    "def preprocess(example):\n",
    "    text = tokenizer.apply_chat_template(\n",
    "            example[\"messages\"],\n",
    "            tokenize=False,\n",
    "        )\n",
    "    return tokenizer(\n",
    "        text,\n",
    "        padding=False,\n",
    "        max_length=max_sequence_length,\n",
    "        truncation=True,\n",
    "        add_special_tokens=False,\n",
    "    )\n",
    "\n",
    "ds = ds.map(preprocess, remove_columns=ds.column_names)"
   ]
  },
  {
   "cell_type": "code",
   "execution_count": 12,
   "metadata": {},
   "outputs": [
    {
     "name": "stderr",
     "output_type": "stream",
     "text": [
      "[2025-09-13 07:31:35] INFO modeling.py:990: We will use 90% of the memory on device 0 for storing the model, and 10% for the buffer to avoid OOM. You can set `max_memory` in to a higher value to use more memory (at your own risk).\n"
     ]
    },
    {
     "data": {
      "application/vnd.jupyter.widget-view+json": {
       "model_id": "4d215e57e207443aa5d159912caa6180",
       "version_major": 2,
       "version_minor": 0
      },
      "text/plain": [
       "Loading checkpoint shards:   0%|          | 0/4 [00:00<?, ?it/s]"
      ]
     },
     "metadata": {},
     "output_type": "display_data"
    },
    {
     "name": "stdout",
     "output_type": "stream",
     "text": [
      "2025-09-13T07:33:05.911454+0000 | reset | INFO - Compression lifecycle reset\n",
      "2025-09-13T07:33:05.912581+0000 | from_modifiers | INFO - Creating recipe from modifiers\n",
      "2025-09-13T07:33:05.914388+0000 | _check_build_quant_modifier | WARNING - GPTQ quantization is set to True without an active quantization modifier.\n",
      "2025-09-13T07:33:05.915037+0000 | _build_quant_modifier | INFO - Building quantization modifier with args: {'targets': 'Linear', 'scheme': 'W4A16', 'ignore': ['lm_head']}\n",
      "2025-09-13T07:33:05.948516+0000 | _check_calibration_data | INFO - Skipping QuantizationModifier calibration, it is not required for the provided quantization config.\n"
     ]
    },
    {
     "name": "stderr",
     "output_type": "stream",
     "text": [
      "Preparing intermediates cache: 100%|██████████| 512/512 [00:00<00:00, 777.49it/s]\n",
      "(1/29): Calibrating: 100%|██████████| 512/512 [00:19<00:00, 25.89it/s]"
     ]
    },
    {
     "name": "stdout",
     "output_type": "stream",
     "text": [
      "2025-09-13T07:33:29.042890+0000 | on_sequential_batch_end | INFO - Quantizing model.layers.0.self_attn.q_proj using 512 samples\n"
     ]
    },
    {
     "name": "stderr",
     "output_type": "stream",
     "text": [
      "\n"
     ]
    },
    {
     "name": "stdout",
     "output_type": "stream",
     "text": [
      "2025-09-13T07:33:30.599837+0000 | compress | METRIC - time 1.56s\n",
      "2025-09-13T07:33:30.600729+0000 | compress | METRIC - error 1758.89\n",
      "2025-09-13T07:33:30.601588+0000 | compress | METRIC - GPU 0 | usage: 77.73% | total memory: 48 GB\n",
      "2025-09-13T07:33:30.601931+0000 | compress | METRIC - Compressed module size: 25.998336 MB\n",
      "2025-09-13T07:33:30.602581+0000 | on_sequential_batch_end | INFO - Quantizing model.layers.0.self_attn.k_proj using 512 samples\n",
      "2025-09-13T07:33:32.035045+0000 | compress | METRIC - time 1.43s\n",
      "2025-09-13T07:33:32.035692+0000 | compress | METRIC - error 394.13\n",
      "2025-09-13T07:33:32.036394+0000 | compress | METRIC - GPU 0 | usage: 77.73% | total memory: 48 GB\n",
      "2025-09-13T07:33:32.036869+0000 | compress | METRIC - Compressed module size: 3.714048 MB\n",
      "2025-09-13T07:33:32.037452+0000 | on_sequential_batch_end | INFO - Quantizing model.layers.0.self_attn.v_proj using 512 samples\n",
      "2025-09-13T07:33:33.473278+0000 | compress | METRIC - time 1.44s\n",
      "2025-09-13T07:33:33.474256+0000 | compress | METRIC - error 42.71\n",
      "2025-09-13T07:33:33.474873+0000 | compress | METRIC - GPU 0 | usage: 77.73% | total memory: 48 GB\n",
      "2025-09-13T07:33:33.475227+0000 | compress | METRIC - Compressed module size: 3.714048 MB\n",
      "2025-09-13T07:33:33.475916+0000 | on_sequential_batch_end | INFO - Quantizing model.layers.0.self_attn.o_proj using 512 samples\n",
      "2025-09-13T07:33:34.919975+0000 | compress | METRIC - time 1.44s\n",
      "2025-09-13T07:33:34.920914+0000 | compress | METRIC - error 210.91\n",
      "2025-09-13T07:33:34.921616+0000 | compress | METRIC - GPU 0 | usage: 77.73% | total memory: 48 GB\n",
      "2025-09-13T07:33:34.921938+0000 | compress | METRIC - Compressed module size: 25.991168 MB\n",
      "2025-09-13T07:33:34.922606+0000 | on_sequential_batch_end | INFO - Quantizing model.layers.0.mlp.gate_proj using 512 samples\n",
      "2025-09-13T07:33:36.516928+0000 | compress | METRIC - time 1.59s\n",
      "2025-09-13T07:33:36.517813+0000 | compress | METRIC - error 42249.09\n",
      "2025-09-13T07:33:36.518559+0000 | compress | METRIC - GPU 0 | usage: 77.73% | total memory: 48 GB\n",
      "2025-09-13T07:33:36.518904+0000 | compress | METRIC - Compressed module size: 137.381888 MB\n",
      "2025-09-13T07:33:36.519573+0000 | on_sequential_batch_end | INFO - Quantizing model.layers.0.mlp.up_proj using 512 samples\n",
      "2025-09-13T07:33:38.127792+0000 | compress | METRIC - time 1.61s\n",
      "2025-09-13T07:33:38.128696+0000 | compress | METRIC - error 1459.98\n",
      "2025-09-13T07:33:38.129279+0000 | compress | METRIC - GPU 0 | usage: 77.73% | total memory: 48 GB\n",
      "2025-09-13T07:33:38.129756+0000 | compress | METRIC - Compressed module size: 137.381888 MB\n",
      "2025-09-13T07:33:38.130556+0000 | on_sequential_batch_end | INFO - Quantizing model.layers.0.mlp.down_proj using 512 samples\n",
      "2025-09-13T07:33:46.593937+0000 | compress | METRIC - time 8.46s\n",
      "2025-09-13T07:33:46.596699+0000 | compress | METRIC - error 339.70\n",
      "2025-09-13T07:33:46.597263+0000 | compress | METRIC - GPU 0 | usage: 80.71% | total memory: 48 GB\n",
      "2025-09-13T07:33:46.597667+0000 | compress | METRIC - Compressed module size: 137.381888 MB\n"
     ]
    },
    {
     "name": "stderr",
     "output_type": "stream",
     "text": [
      "(1/29): Propagating: 100%|██████████| 512/512 [00:03<00:00, 163.41it/s]\n",
      "(2/29): Calibrating: 100%|██████████| 512/512 [00:20<00:00, 25.29it/s]"
     ]
    },
    {
     "name": "stdout",
     "output_type": "stream",
     "text": [
      "2025-09-13T07:34:09.976152+0000 | on_sequential_batch_end | INFO - Quantizing model.layers.1.self_attn.q_proj using 512 samples\n"
     ]
    },
    {
     "name": "stderr",
     "output_type": "stream",
     "text": [
      "\n"
     ]
    },
    {
     "name": "stdout",
     "output_type": "stream",
     "text": [
      "2025-09-13T07:34:11.482307+0000 | compress | METRIC - time 1.51s\n",
      "2025-09-13T07:34:11.483362+0000 | compress | METRIC - error 760.12\n",
      "2025-09-13T07:34:11.484015+0000 | compress | METRIC - GPU 0 | usage: 80.71% | total memory: 48 GB\n",
      "2025-09-13T07:34:11.484399+0000 | compress | METRIC - Compressed module size: 25.998336 MB\n",
      "2025-09-13T07:34:11.485051+0000 | on_sequential_batch_end | INFO - Quantizing model.layers.1.self_attn.k_proj using 512 samples\n",
      "2025-09-13T07:34:12.902744+0000 | compress | METRIC - time 1.42s\n",
      "2025-09-13T07:34:12.903758+0000 | compress | METRIC - error 196.17\n",
      "2025-09-13T07:34:12.904505+0000 | compress | METRIC - GPU 0 | usage: 80.71% | total memory: 48 GB\n",
      "2025-09-13T07:34:12.904862+0000 | compress | METRIC - Compressed module size: 3.714048 MB\n",
      "2025-09-13T07:34:12.905558+0000 | on_sequential_batch_end | INFO - Quantizing model.layers.1.self_attn.v_proj using 512 samples\n",
      "2025-09-13T07:34:14.339826+0000 | compress | METRIC - time 1.43s\n",
      "2025-09-13T07:34:14.340830+0000 | compress | METRIC - error 59.33\n",
      "2025-09-13T07:34:14.341552+0000 | compress | METRIC - GPU 0 | usage: 80.71% | total memory: 48 GB\n",
      "2025-09-13T07:34:14.341895+0000 | compress | METRIC - Compressed module size: 3.714048 MB\n",
      "2025-09-13T07:34:14.342590+0000 | on_sequential_batch_end | INFO - Quantizing model.layers.1.self_attn.o_proj using 512 samples\n",
      "2025-09-13T07:34:15.804089+0000 | compress | METRIC - time 1.46s\n",
      "2025-09-13T07:34:15.805032+0000 | compress | METRIC - error 48.94\n",
      "2025-09-13T07:34:15.805753+0000 | compress | METRIC - GPU 0 | usage: 80.71% | total memory: 48 GB\n",
      "2025-09-13T07:34:15.806126+0000 | compress | METRIC - Compressed module size: 25.991168 MB\n",
      "2025-09-13T07:34:15.806792+0000 | on_sequential_batch_end | INFO - Quantizing model.layers.1.mlp.gate_proj using 512 samples\n",
      "2025-09-13T07:34:17.409478+0000 | compress | METRIC - time 1.60s\n",
      "2025-09-13T07:34:17.410511+0000 | compress | METRIC - error 80401.25\n",
      "2025-09-13T07:34:17.411124+0000 | compress | METRIC - GPU 0 | usage: 80.71% | total memory: 48 GB\n",
      "2025-09-13T07:34:17.411524+0000 | compress | METRIC - Compressed module size: 137.381888 MB\n",
      "2025-09-13T07:34:17.412196+0000 | on_sequential_batch_end | INFO - Quantizing model.layers.1.mlp.up_proj using 512 samples\n",
      "2025-09-13T07:34:19.016244+0000 | compress | METRIC - time 1.60s\n",
      "2025-09-13T07:34:19.017227+0000 | compress | METRIC - error 33200.04\n",
      "2025-09-13T07:34:19.017890+0000 | compress | METRIC - GPU 0 | usage: 80.71% | total memory: 48 GB\n",
      "2025-09-13T07:34:19.018235+0000 | compress | METRIC - Compressed module size: 137.381888 MB\n",
      "2025-09-13T07:34:19.018918+0000 | on_sequential_batch_end | INFO - Quantizing model.layers.1.mlp.down_proj using 512 samples\n",
      "2025-09-13T07:34:27.522962+0000 | compress | METRIC - time 8.50s\n",
      "2025-09-13T07:34:27.525509+0000 | compress | METRIC - error 407.44\n",
      "2025-09-13T07:34:27.526372+0000 | compress | METRIC - GPU 0 | usage: 80.71% | total memory: 48 GB\n",
      "2025-09-13T07:34:27.526805+0000 | compress | METRIC - Compressed module size: 137.381888 MB\n"
     ]
    },
    {
     "name": "stderr",
     "output_type": "stream",
     "text": [
      "(2/29): Propagating: 100%|██████████| 512/512 [00:02<00:00, 181.05it/s]\n",
      "(3/29): Calibrating: 100%|██████████| 512/512 [00:20<00:00, 25.29it/s]"
     ]
    },
    {
     "name": "stdout",
     "output_type": "stream",
     "text": [
      "2025-09-13T07:34:50.601019+0000 | on_sequential_batch_end | INFO - Quantizing model.layers.2.self_attn.q_proj using 512 samples\n"
     ]
    },
    {
     "name": "stderr",
     "output_type": "stream",
     "text": [
      "\n"
     ]
    },
    {
     "name": "stdout",
     "output_type": "stream",
     "text": [
      "2025-09-13T07:34:52.123176+0000 | compress | METRIC - time 1.52s\n",
      "2025-09-13T07:34:52.124193+0000 | compress | METRIC - error 3996.47\n",
      "2025-09-13T07:34:52.125090+0000 | compress | METRIC - GPU 0 | usage: 80.71% | total memory: 48 GB\n",
      "2025-09-13T07:34:52.125584+0000 | compress | METRIC - Compressed module size: 25.998336 MB\n",
      "2025-09-13T07:34:52.126530+0000 | on_sequential_batch_end | INFO - Quantizing model.layers.2.self_attn.k_proj using 512 samples\n",
      "2025-09-13T07:34:53.564187+0000 | compress | METRIC - time 1.44s\n",
      "2025-09-13T07:34:53.565230+0000 | compress | METRIC - error 1063.97\n",
      "2025-09-13T07:34:53.566130+0000 | compress | METRIC - GPU 0 | usage: 80.71% | total memory: 48 GB\n",
      "2025-09-13T07:34:53.566618+0000 | compress | METRIC - Compressed module size: 3.714048 MB\n",
      "2025-09-13T07:34:53.567550+0000 | on_sequential_batch_end | INFO - Quantizing model.layers.2.self_attn.v_proj using 512 samples\n",
      "2025-09-13T07:34:55.002011+0000 | compress | METRIC - time 1.43s\n",
      "2025-09-13T07:34:55.003086+0000 | compress | METRIC - error 191.87\n",
      "2025-09-13T07:34:55.003981+0000 | compress | METRIC - GPU 0 | usage: 80.71% | total memory: 48 GB\n",
      "2025-09-13T07:34:55.004458+0000 | compress | METRIC - Compressed module size: 3.714048 MB\n",
      "2025-09-13T07:34:55.005378+0000 | on_sequential_batch_end | INFO - Quantizing model.layers.2.self_attn.o_proj using 512 samples\n",
      "2025-09-13T07:34:56.466170+0000 | compress | METRIC - time 1.46s\n",
      "2025-09-13T07:34:56.467200+0000 | compress | METRIC - error 106.61\n",
      "2025-09-13T07:34:56.468048+0000 | compress | METRIC - GPU 0 | usage: 80.71% | total memory: 48 GB\n",
      "2025-09-13T07:34:56.468528+0000 | compress | METRIC - Compressed module size: 25.991168 MB\n",
      "2025-09-13T07:34:56.469412+0000 | on_sequential_batch_end | INFO - Quantizing model.layers.2.mlp.gate_proj using 512 samples\n",
      "2025-09-13T07:34:58.148089+0000 | compress | METRIC - time 1.68s\n",
      "2025-09-13T07:34:58.149092+0000 | compress | METRIC - error 88534.26\n",
      "2025-09-13T07:34:58.149701+0000 | compress | METRIC - GPU 0 | usage: 80.71% | total memory: 48 GB\n",
      "2025-09-13T07:34:58.150041+0000 | compress | METRIC - Compressed module size: 137.381888 MB\n",
      "2025-09-13T07:34:58.150926+0000 | on_sequential_batch_end | INFO - Quantizing model.layers.2.mlp.up_proj using 512 samples\n",
      "2025-09-13T07:34:59.815482+0000 | compress | METRIC - time 1.66s\n",
      "2025-09-13T07:34:59.816645+0000 | compress | METRIC - error 41493.83\n",
      "2025-09-13T07:34:59.817269+0000 | compress | METRIC - GPU 0 | usage: 80.71% | total memory: 48 GB\n",
      "2025-09-13T07:34:59.817754+0000 | compress | METRIC - Compressed module size: 137.381888 MB\n",
      "2025-09-13T07:34:59.818405+0000 | on_sequential_batch_end | INFO - Quantizing model.layers.2.mlp.down_proj using 512 samples\n",
      "2025-09-13T07:35:08.283522+0000 | compress | METRIC - time 8.46s\n",
      "2025-09-13T07:35:08.286675+0000 | compress | METRIC - error 757.75\n",
      "2025-09-13T07:35:08.287392+0000 | compress | METRIC - GPU 0 | usage: 80.71% | total memory: 48 GB\n",
      "2025-09-13T07:35:08.287884+0000 | compress | METRIC - Compressed module size: 137.381888 MB\n"
     ]
    },
    {
     "name": "stderr",
     "output_type": "stream",
     "text": [
      "(3/29): Propagating: 100%|██████████| 512/512 [00:02<00:00, 185.14it/s]\n",
      "(4/29): Calibrating: 100%|██████████| 512/512 [00:20<00:00, 25.52it/s]"
     ]
    },
    {
     "name": "stdout",
     "output_type": "stream",
     "text": [
      "2025-09-13T07:35:31.116729+0000 | on_sequential_batch_end | INFO - Quantizing model.layers.3.self_attn.q_proj using 512 samples\n"
     ]
    },
    {
     "name": "stderr",
     "output_type": "stream",
     "text": [
      "\n"
     ]
    },
    {
     "name": "stdout",
     "output_type": "stream",
     "text": [
      "2025-09-13T07:35:32.631376+0000 | compress | METRIC - time 1.51s\n",
      "2025-09-13T07:35:32.632379+0000 | compress | METRIC - error 4646.26\n",
      "2025-09-13T07:35:32.632903+0000 | compress | METRIC - GPU 0 | usage: 80.71% | total memory: 48 GB\n",
      "2025-09-13T07:35:32.633347+0000 | compress | METRIC - Compressed module size: 25.998336 MB\n",
      "2025-09-13T07:35:32.634406+0000 | on_sequential_batch_end | INFO - Quantizing model.layers.3.self_attn.k_proj using 512 samples\n",
      "2025-09-13T07:35:34.068636+0000 | compress | METRIC - time 1.43s\n",
      "2025-09-13T07:35:34.069626+0000 | compress | METRIC - error 1153.94\n",
      "2025-09-13T07:35:34.070251+0000 | compress | METRIC - GPU 0 | usage: 80.71% | total memory: 48 GB\n",
      "2025-09-13T07:35:34.070643+0000 | compress | METRIC - Compressed module size: 3.714048 MB\n",
      "2025-09-13T07:35:34.071274+0000 | on_sequential_batch_end | INFO - Quantizing model.layers.3.self_attn.v_proj using 512 samples\n",
      "2025-09-13T07:35:35.524423+0000 | compress | METRIC - time 1.45s\n",
      "2025-09-13T07:35:35.525477+0000 | compress | METRIC - error 319.80\n",
      "2025-09-13T07:35:35.526113+0000 | compress | METRIC - GPU 0 | usage: 80.71% | total memory: 48 GB\n",
      "2025-09-13T07:35:35.526637+0000 | compress | METRIC - Compressed module size: 3.714048 MB\n",
      "2025-09-13T07:35:35.527221+0000 | on_sequential_batch_end | INFO - Quantizing model.layers.3.self_attn.o_proj using 512 samples\n",
      "2025-09-13T07:35:36.987065+0000 | compress | METRIC - time 1.46s\n",
      "2025-09-13T07:35:36.988241+0000 | compress | METRIC - error 246.92\n",
      "2025-09-13T07:35:36.989203+0000 | compress | METRIC - GPU 0 | usage: 80.71% | total memory: 48 GB\n",
      "2025-09-13T07:35:36.989674+0000 | compress | METRIC - Compressed module size: 25.991168 MB\n",
      "2025-09-13T07:35:36.990610+0000 | on_sequential_batch_end | INFO - Quantizing model.layers.3.mlp.gate_proj using 512 samples\n",
      "2025-09-13T07:35:38.612806+0000 | compress | METRIC - time 1.62s\n",
      "2025-09-13T07:35:38.613821+0000 | compress | METRIC - error 138243.62\n",
      "2025-09-13T07:35:38.614406+0000 | compress | METRIC - GPU 0 | usage: 80.71% | total memory: 48 GB\n",
      "2025-09-13T07:35:38.614748+0000 | compress | METRIC - Compressed module size: 137.381888 MB\n",
      "2025-09-13T07:35:38.615803+0000 | on_sequential_batch_end | INFO - Quantizing model.layers.3.mlp.up_proj using 512 samples\n",
      "2025-09-13T07:35:40.240714+0000 | compress | METRIC - time 1.62s\n",
      "2025-09-13T07:35:40.241392+0000 | compress | METRIC - error 106198.49\n",
      "2025-09-13T07:35:40.241997+0000 | compress | METRIC - GPU 0 | usage: 80.71% | total memory: 48 GB\n",
      "2025-09-13T07:35:40.242620+0000 | compress | METRIC - Compressed module size: 137.381888 MB\n",
      "2025-09-13T07:35:40.243314+0000 | on_sequential_batch_end | INFO - Quantizing model.layers.3.mlp.down_proj using 512 samples\n",
      "2025-09-13T07:35:48.680221+0000 | compress | METRIC - time 8.44s\n",
      "2025-09-13T07:35:48.683456+0000 | compress | METRIC - error 16177.14\n",
      "2025-09-13T07:35:48.684218+0000 | compress | METRIC - GPU 0 | usage: 80.71% | total memory: 48 GB\n",
      "2025-09-13T07:35:48.684719+0000 | compress | METRIC - Compressed module size: 137.381888 MB\n"
     ]
    },
    {
     "name": "stderr",
     "output_type": "stream",
     "text": [
      "(4/29): Propagating: 100%|██████████| 512/512 [00:02<00:00, 183.20it/s]\n",
      "(5/29): Calibrating: 100%|██████████| 512/512 [00:20<00:00, 25.41it/s]"
     ]
    },
    {
     "name": "stdout",
     "output_type": "stream",
     "text": [
      "2025-09-13T07:36:11.632812+0000 | on_sequential_batch_end | INFO - Quantizing model.layers.4.self_attn.q_proj using 512 samples\n"
     ]
    },
    {
     "name": "stderr",
     "output_type": "stream",
     "text": [
      "\n"
     ]
    },
    {
     "name": "stdout",
     "output_type": "stream",
     "text": [
      "2025-09-13T07:36:13.125153+0000 | compress | METRIC - time 1.49s\n",
      "2025-09-13T07:36:13.125830+0000 | compress | METRIC - error 11601.06\n",
      "2025-09-13T07:36:13.126463+0000 | compress | METRIC - GPU 0 | usage: 80.71% | total memory: 48 GB\n",
      "2025-09-13T07:36:13.126843+0000 | compress | METRIC - Compressed module size: 25.998336 MB\n",
      "2025-09-13T07:36:13.127539+0000 | on_sequential_batch_end | INFO - Quantizing model.layers.4.self_attn.k_proj using 512 samples\n",
      "2025-09-13T07:36:14.551394+0000 | compress | METRIC - time 1.42s\n",
      "2025-09-13T07:36:14.552398+0000 | compress | METRIC - error 2534.04\n",
      "2025-09-13T07:36:14.552911+0000 | compress | METRIC - GPU 0 | usage: 80.71% | total memory: 48 GB\n",
      "2025-09-13T07:36:14.553231+0000 | compress | METRIC - Compressed module size: 3.714048 MB\n",
      "2025-09-13T07:36:14.554007+0000 | on_sequential_batch_end | INFO - Quantizing model.layers.4.self_attn.v_proj using 512 samples\n",
      "2025-09-13T07:36:16.000370+0000 | compress | METRIC - time 1.45s\n",
      "2025-09-13T07:36:16.001323+0000 | compress | METRIC - error 967.90\n",
      "2025-09-13T07:36:16.001999+0000 | compress | METRIC - GPU 0 | usage: 80.71% | total memory: 48 GB\n",
      "2025-09-13T07:36:16.002341+0000 | compress | METRIC - Compressed module size: 3.714048 MB\n",
      "2025-09-13T07:36:16.002967+0000 | on_sequential_batch_end | INFO - Quantizing model.layers.4.self_attn.o_proj using 512 samples\n",
      "2025-09-13T07:36:17.441107+0000 | compress | METRIC - time 1.44s\n",
      "2025-09-13T07:36:17.441876+0000 | compress | METRIC - error 237.02\n",
      "2025-09-13T07:36:17.442489+0000 | compress | METRIC - GPU 0 | usage: 80.71% | total memory: 48 GB\n",
      "2025-09-13T07:36:17.442843+0000 | compress | METRIC - Compressed module size: 25.991168 MB\n",
      "2025-09-13T07:36:17.443551+0000 | on_sequential_batch_end | INFO - Quantizing model.layers.4.mlp.gate_proj using 512 samples\n",
      "2025-09-13T07:36:19.082545+0000 | compress | METRIC - time 1.64s\n",
      "2025-09-13T07:36:19.083734+0000 | compress | METRIC - error 148418.02\n",
      "2025-09-13T07:36:19.084403+0000 | compress | METRIC - GPU 0 | usage: 80.71% | total memory: 48 GB\n",
      "2025-09-13T07:36:19.084770+0000 | compress | METRIC - Compressed module size: 137.381888 MB\n",
      "2025-09-13T07:36:19.085461+0000 | on_sequential_batch_end | INFO - Quantizing model.layers.4.mlp.up_proj using 512 samples\n",
      "2025-09-13T07:36:20.713586+0000 | compress | METRIC - time 1.63s\n",
      "2025-09-13T07:36:20.714701+0000 | compress | METRIC - error 102933.59\n",
      "2025-09-13T07:36:20.715366+0000 | compress | METRIC - GPU 0 | usage: 80.71% | total memory: 48 GB\n",
      "2025-09-13T07:36:20.715728+0000 | compress | METRIC - Compressed module size: 137.381888 MB\n",
      "2025-09-13T07:36:20.716570+0000 | on_sequential_batch_end | INFO - Quantizing model.layers.4.mlp.down_proj using 512 samples\n",
      "2025-09-13T07:36:29.166089+0000 | compress | METRIC - time 8.45s\n",
      "2025-09-13T07:36:29.168725+0000 | compress | METRIC - error 2280.93\n",
      "2025-09-13T07:36:29.169559+0000 | compress | METRIC - GPU 0 | usage: 80.71% | total memory: 48 GB\n",
      "2025-09-13T07:36:29.170002+0000 | compress | METRIC - Compressed module size: 137.381888 MB\n"
     ]
    },
    {
     "name": "stderr",
     "output_type": "stream",
     "text": [
      "(5/29): Propagating: 100%|██████████| 512/512 [00:02<00:00, 183.78it/s]\n",
      "(6/29): Calibrating: 100%|██████████| 512/512 [00:20<00:00, 25.01it/s]"
     ]
    },
    {
     "name": "stdout",
     "output_type": "stream",
     "text": [
      "2025-09-13T07:36:52.430094+0000 | on_sequential_batch_end | INFO - Quantizing model.layers.5.self_attn.q_proj using 512 samples\n"
     ]
    },
    {
     "name": "stderr",
     "output_type": "stream",
     "text": [
      "\n"
     ]
    },
    {
     "name": "stdout",
     "output_type": "stream",
     "text": [
      "2025-09-13T07:36:53.926526+0000 | compress | METRIC - time 1.50s\n",
      "2025-09-13T07:36:53.927652+0000 | compress | METRIC - error 10932.83\n",
      "2025-09-13T07:36:53.928249+0000 | compress | METRIC - GPU 0 | usage: 80.71% | total memory: 48 GB\n",
      "2025-09-13T07:36:53.928608+0000 | compress | METRIC - Compressed module size: 25.998336 MB\n",
      "2025-09-13T07:36:53.929252+0000 | on_sequential_batch_end | INFO - Quantizing model.layers.5.self_attn.k_proj using 512 samples\n",
      "2025-09-13T07:36:55.362874+0000 | compress | METRIC - time 1.43s\n",
      "2025-09-13T07:36:55.363947+0000 | compress | METRIC - error 2225.24\n",
      "2025-09-13T07:36:55.364547+0000 | compress | METRIC - GPU 0 | usage: 80.71% | total memory: 48 GB\n",
      "2025-09-13T07:36:55.365066+0000 | compress | METRIC - Compressed module size: 3.714048 MB\n",
      "2025-09-13T07:36:55.365667+0000 | on_sequential_batch_end | INFO - Quantizing model.layers.5.self_attn.v_proj using 512 samples\n",
      "2025-09-13T07:36:56.770701+0000 | compress | METRIC - time 1.40s\n",
      "2025-09-13T07:36:56.771720+0000 | compress | METRIC - error 987.02\n",
      "2025-09-13T07:36:56.772426+0000 | compress | METRIC - GPU 0 | usage: 80.71% | total memory: 48 GB\n",
      "2025-09-13T07:36:56.772783+0000 | compress | METRIC - Compressed module size: 3.714048 MB\n",
      "2025-09-13T07:36:56.773489+0000 | on_sequential_batch_end | INFO - Quantizing model.layers.5.self_attn.o_proj using 512 samples\n",
      "2025-09-13T07:36:58.253697+0000 | compress | METRIC - time 1.48s\n",
      "2025-09-13T07:36:58.254642+0000 | compress | METRIC - error 262.87\n",
      "2025-09-13T07:36:58.255211+0000 | compress | METRIC - GPU 0 | usage: 80.71% | total memory: 48 GB\n",
      "2025-09-13T07:36:58.255581+0000 | compress | METRIC - Compressed module size: 25.991168 MB\n",
      "2025-09-13T07:36:58.256522+0000 | on_sequential_batch_end | INFO - Quantizing model.layers.5.mlp.gate_proj using 512 samples\n",
      "2025-09-13T07:36:59.913573+0000 | compress | METRIC - time 1.66s\n",
      "2025-09-13T07:36:59.914685+0000 | compress | METRIC - error 196694.88\n",
      "2025-09-13T07:36:59.915473+0000 | compress | METRIC - GPU 0 | usage: 80.71% | total memory: 48 GB\n",
      "2025-09-13T07:36:59.915879+0000 | compress | METRIC - Compressed module size: 137.381888 MB\n",
      "2025-09-13T07:36:59.916725+0000 | on_sequential_batch_end | INFO - Quantizing model.layers.5.mlp.up_proj using 512 samples\n",
      "2025-09-13T07:37:01.513427+0000 | compress | METRIC - time 1.60s\n",
      "2025-09-13T07:37:01.514083+0000 | compress | METRIC - error 160455.03\n",
      "2025-09-13T07:37:01.514859+0000 | compress | METRIC - GPU 0 | usage: 80.71% | total memory: 48 GB\n",
      "2025-09-13T07:37:01.515238+0000 | compress | METRIC - Compressed module size: 137.381888 MB\n",
      "2025-09-13T07:37:01.516066+0000 | on_sequential_batch_end | INFO - Quantizing model.layers.5.mlp.down_proj using 512 samples\n",
      "2025-09-13T07:37:09.900508+0000 | compress | METRIC - time 8.38s\n",
      "2025-09-13T07:37:09.902951+0000 | compress | METRIC - error 1119.48\n",
      "2025-09-13T07:37:09.903703+0000 | compress | METRIC - GPU 0 | usage: 80.71% | total memory: 48 GB\n",
      "2025-09-13T07:37:09.904094+0000 | compress | METRIC - Compressed module size: 137.381888 MB\n"
     ]
    },
    {
     "name": "stderr",
     "output_type": "stream",
     "text": [
      "(6/29): Propagating: 100%|██████████| 512/512 [00:02<00:00, 183.42it/s]\n",
      "(7/29): Calibrating: 100%|██████████| 512/512 [00:20<00:00, 25.43it/s]"
     ]
    },
    {
     "name": "stdout",
     "output_type": "stream",
     "text": [
      "2025-09-13T07:37:32.833428+0000 | on_sequential_batch_end | INFO - Quantizing model.layers.6.self_attn.q_proj using 512 samples\n"
     ]
    },
    {
     "name": "stderr",
     "output_type": "stream",
     "text": [
      "\n"
     ]
    },
    {
     "name": "stdout",
     "output_type": "stream",
     "text": [
      "2025-09-13T07:37:34.333211+0000 | compress | METRIC - time 1.50s\n",
      "2025-09-13T07:37:34.334167+0000 | compress | METRIC - error 7173.37\n",
      "2025-09-13T07:37:34.334795+0000 | compress | METRIC - GPU 0 | usage: 80.71% | total memory: 48 GB\n",
      "2025-09-13T07:37:34.335178+0000 | compress | METRIC - Compressed module size: 25.998336 MB\n",
      "2025-09-13T07:37:34.335863+0000 | on_sequential_batch_end | INFO - Quantizing model.layers.6.self_attn.k_proj using 512 samples\n",
      "2025-09-13T07:37:35.786677+0000 | compress | METRIC - time 1.45s\n",
      "2025-09-13T07:37:35.787612+0000 | compress | METRIC - error 1422.52\n",
      "2025-09-13T07:37:35.788209+0000 | compress | METRIC - GPU 0 | usage: 80.71% | total memory: 48 GB\n",
      "2025-09-13T07:37:35.788611+0000 | compress | METRIC - Compressed module size: 3.714048 MB\n",
      "2025-09-13T07:37:35.789308+0000 | on_sequential_batch_end | INFO - Quantizing model.layers.6.self_attn.v_proj using 512 samples\n",
      "2025-09-13T07:37:37.268772+0000 | compress | METRIC - time 1.48s\n",
      "2025-09-13T07:37:37.269885+0000 | compress | METRIC - error 712.34\n",
      "2025-09-13T07:37:37.270425+0000 | compress | METRIC - GPU 0 | usage: 80.71% | total memory: 48 GB\n",
      "2025-09-13T07:37:37.270755+0000 | compress | METRIC - Compressed module size: 3.714048 MB\n",
      "2025-09-13T07:37:37.271659+0000 | on_sequential_batch_end | INFO - Quantizing model.layers.6.self_attn.o_proj using 512 samples\n",
      "2025-09-13T07:37:38.692598+0000 | compress | METRIC - time 1.42s\n",
      "2025-09-13T07:37:38.693489+0000 | compress | METRIC - error 344.87\n",
      "2025-09-13T07:37:38.694222+0000 | compress | METRIC - GPU 0 | usage: 80.71% | total memory: 48 GB\n",
      "2025-09-13T07:37:38.694632+0000 | compress | METRIC - Compressed module size: 25.991168 MB\n",
      "2025-09-13T07:37:38.695386+0000 | on_sequential_batch_end | INFO - Quantizing model.layers.6.mlp.gate_proj using 512 samples\n",
      "2025-09-13T07:37:40.260571+0000 | compress | METRIC - time 1.56s\n",
      "2025-09-13T07:37:40.261656+0000 | compress | METRIC - error 58798.20\n",
      "2025-09-13T07:37:40.262553+0000 | compress | METRIC - GPU 0 | usage: 80.71% | total memory: 48 GB\n",
      "2025-09-13T07:37:40.263014+0000 | compress | METRIC - Compressed module size: 137.381888 MB\n",
      "2025-09-13T07:37:40.263924+0000 | on_sequential_batch_end | INFO - Quantizing model.layers.6.mlp.up_proj using 512 samples\n",
      "2025-09-13T07:37:41.857656+0000 | compress | METRIC - time 1.59s\n",
      "2025-09-13T07:37:41.858711+0000 | compress | METRIC - error 38729.52\n",
      "2025-09-13T07:37:41.859440+0000 | compress | METRIC - GPU 0 | usage: 80.71% | total memory: 48 GB\n",
      "2025-09-13T07:37:41.859793+0000 | compress | METRIC - Compressed module size: 137.381888 MB\n",
      "2025-09-13T07:37:41.860468+0000 | on_sequential_batch_end | INFO - Quantizing model.layers.6.mlp.down_proj using 512 samples\n",
      "2025-09-13T07:37:50.161131+0000 | compress | METRIC - time 8.30s\n",
      "2025-09-13T07:37:50.163669+0000 | compress | METRIC - error 2341.11\n",
      "2025-09-13T07:37:50.164244+0000 | compress | METRIC - GPU 0 | usage: 80.71% | total memory: 48 GB\n",
      "2025-09-13T07:37:50.164638+0000 | compress | METRIC - Compressed module size: 137.381888 MB\n"
     ]
    },
    {
     "name": "stderr",
     "output_type": "stream",
     "text": [
      "(7/29): Propagating: 100%|██████████| 512/512 [00:02<00:00, 185.18it/s]\n",
      "(8/29): Calibrating: 100%|██████████| 512/512 [00:20<00:00, 25.60it/s]"
     ]
    },
    {
     "name": "stdout",
     "output_type": "stream",
     "text": [
      "2025-09-13T07:38:12.935963+0000 | on_sequential_batch_end | INFO - Quantizing model.layers.7.self_attn.q_proj using 512 samples\n"
     ]
    },
    {
     "name": "stderr",
     "output_type": "stream",
     "text": [
      "\n"
     ]
    },
    {
     "name": "stdout",
     "output_type": "stream",
     "text": [
      "2025-09-13T07:38:14.408414+0000 | compress | METRIC - time 1.47s\n",
      "2025-09-13T07:38:14.409438+0000 | compress | METRIC - error 8648.19\n",
      "2025-09-13T07:38:14.410129+0000 | compress | METRIC - GPU 0 | usage: 80.71% | total memory: 48 GB\n",
      "2025-09-13T07:38:14.410527+0000 | compress | METRIC - Compressed module size: 25.998336 MB\n",
      "2025-09-13T07:38:14.411273+0000 | on_sequential_batch_end | INFO - Quantizing model.layers.7.self_attn.k_proj using 512 samples\n",
      "2025-09-13T07:38:15.799877+0000 | compress | METRIC - time 1.39s\n",
      "2025-09-13T07:38:15.800937+0000 | compress | METRIC - error 1481.31\n",
      "2025-09-13T07:38:15.801652+0000 | compress | METRIC - GPU 0 | usage: 80.71% | total memory: 48 GB\n",
      "2025-09-13T07:38:15.802031+0000 | compress | METRIC - Compressed module size: 3.714048 MB\n",
      "2025-09-13T07:38:15.802751+0000 | on_sequential_batch_end | INFO - Quantizing model.layers.7.self_attn.v_proj using 512 samples\n",
      "2025-09-13T07:38:17.228488+0000 | compress | METRIC - time 1.43s\n",
      "2025-09-13T07:38:17.229561+0000 | compress | METRIC - error 1470.67\n",
      "2025-09-13T07:38:17.230240+0000 | compress | METRIC - GPU 0 | usage: 80.71% | total memory: 48 GB\n",
      "2025-09-13T07:38:17.230702+0000 | compress | METRIC - Compressed module size: 3.714048 MB\n",
      "2025-09-13T07:38:17.231527+0000 | on_sequential_batch_end | INFO - Quantizing model.layers.7.self_attn.o_proj using 512 samples\n",
      "2025-09-13T07:38:18.647136+0000 | compress | METRIC - time 1.42s\n",
      "2025-09-13T07:38:18.648091+0000 | compress | METRIC - error 762.86\n",
      "2025-09-13T07:38:18.648815+0000 | compress | METRIC - GPU 0 | usage: 80.71% | total memory: 48 GB\n",
      "2025-09-13T07:38:18.649184+0000 | compress | METRIC - Compressed module size: 25.991168 MB\n",
      "2025-09-13T07:38:18.649906+0000 | on_sequential_batch_end | INFO - Quantizing model.layers.7.mlp.gate_proj using 512 samples\n",
      "2025-09-13T07:38:20.251681+0000 | compress | METRIC - time 1.60s\n",
      "2025-09-13T07:38:20.252739+0000 | compress | METRIC - error 40878.95\n",
      "2025-09-13T07:38:20.253630+0000 | compress | METRIC - GPU 0 | usage: 80.71% | total memory: 48 GB\n",
      "2025-09-13T07:38:20.254078+0000 | compress | METRIC - Compressed module size: 137.381888 MB\n",
      "2025-09-13T07:38:20.254993+0000 | on_sequential_batch_end | INFO - Quantizing model.layers.7.mlp.up_proj using 512 samples\n",
      "2025-09-13T07:38:21.850563+0000 | compress | METRIC - time 1.60s\n",
      "2025-09-13T07:38:21.851726+0000 | compress | METRIC - error 35836.20\n",
      "2025-09-13T07:38:21.852491+0000 | compress | METRIC - GPU 0 | usage: 80.71% | total memory: 48 GB\n",
      "2025-09-13T07:38:21.853110+0000 | compress | METRIC - Compressed module size: 137.381888 MB\n",
      "2025-09-13T07:38:21.853849+0000 | on_sequential_batch_end | INFO - Quantizing model.layers.7.mlp.down_proj using 512 samples\n",
      "2025-09-13T07:38:30.116227+0000 | compress | METRIC - time 8.26s\n",
      "2025-09-13T07:38:30.119264+0000 | compress | METRIC - error 3674.32\n",
      "2025-09-13T07:38:30.120108+0000 | compress | METRIC - GPU 0 | usage: 80.71% | total memory: 48 GB\n",
      "2025-09-13T07:38:30.120564+0000 | compress | METRIC - Compressed module size: 137.381888 MB\n"
     ]
    },
    {
     "name": "stderr",
     "output_type": "stream",
     "text": [
      "(8/29): Propagating: 100%|██████████| 512/512 [00:02<00:00, 185.94it/s]\n",
      "(9/29): Calibrating: 100%|██████████| 512/512 [00:20<00:00, 25.54it/s]"
     ]
    },
    {
     "name": "stdout",
     "output_type": "stream",
     "text": [
      "2025-09-13T07:38:52.921523+0000 | on_sequential_batch_end | INFO - Quantizing model.layers.8.self_attn.q_proj using 512 samples\n"
     ]
    },
    {
     "name": "stderr",
     "output_type": "stream",
     "text": [
      "\n"
     ]
    },
    {
     "name": "stdout",
     "output_type": "stream",
     "text": [
      "2025-09-13T07:38:54.422133+0000 | compress | METRIC - time 1.50s\n",
      "2025-09-13T07:38:54.423113+0000 | compress | METRIC - error 12965.93\n",
      "2025-09-13T07:38:54.423792+0000 | compress | METRIC - GPU 0 | usage: 80.71% | total memory: 48 GB\n",
      "2025-09-13T07:38:54.424134+0000 | compress | METRIC - Compressed module size: 25.998336 MB\n",
      "2025-09-13T07:38:54.424880+0000 | on_sequential_batch_end | INFO - Quantizing model.layers.8.self_attn.k_proj using 512 samples\n",
      "2025-09-13T07:38:55.865019+0000 | compress | METRIC - time 1.44s\n",
      "2025-09-13T07:38:55.866060+0000 | compress | METRIC - error 2899.59\n",
      "2025-09-13T07:38:55.866736+0000 | compress | METRIC - GPU 0 | usage: 80.71% | total memory: 48 GB\n",
      "2025-09-13T07:38:55.867160+0000 | compress | METRIC - Compressed module size: 3.714048 MB\n",
      "2025-09-13T07:38:55.867864+0000 | on_sequential_batch_end | INFO - Quantizing model.layers.8.self_attn.v_proj using 512 samples\n",
      "2025-09-13T07:38:57.343952+0000 | compress | METRIC - time 1.48s\n",
      "2025-09-13T07:38:57.345030+0000 | compress | METRIC - error 1221.41\n",
      "2025-09-13T07:38:57.345718+0000 | compress | METRIC - GPU 0 | usage: 80.71% | total memory: 48 GB\n",
      "2025-09-13T07:38:57.346215+0000 | compress | METRIC - Compressed module size: 3.714048 MB\n",
      "2025-09-13T07:38:57.346817+0000 | on_sequential_batch_end | INFO - Quantizing model.layers.8.self_attn.o_proj using 512 samples\n",
      "2025-09-13T07:38:58.804062+0000 | compress | METRIC - time 1.46s\n",
      "2025-09-13T07:38:58.805002+0000 | compress | METRIC - error 718.69\n",
      "2025-09-13T07:38:58.805558+0000 | compress | METRIC - GPU 0 | usage: 80.71% | total memory: 48 GB\n",
      "2025-09-13T07:38:58.805870+0000 | compress | METRIC - Compressed module size: 25.991168 MB\n",
      "2025-09-13T07:38:58.806693+0000 | on_sequential_batch_end | INFO - Quantizing model.layers.8.mlp.gate_proj using 512 samples\n",
      "2025-09-13T07:39:00.470191+0000 | compress | METRIC - time 1.66s\n",
      "2025-09-13T07:39:00.471216+0000 | compress | METRIC - error 43484.26\n",
      "2025-09-13T07:39:00.471929+0000 | compress | METRIC - GPU 0 | usage: 80.71% | total memory: 48 GB\n",
      "2025-09-13T07:39:00.472297+0000 | compress | METRIC - Compressed module size: 137.381888 MB\n",
      "2025-09-13T07:39:00.473091+0000 | on_sequential_batch_end | INFO - Quantizing model.layers.8.mlp.up_proj using 512 samples\n",
      "2025-09-13T07:39:02.116211+0000 | compress | METRIC - time 1.64s\n",
      "2025-09-13T07:39:02.117278+0000 | compress | METRIC - error 40892.88\n",
      "2025-09-13T07:39:02.118190+0000 | compress | METRIC - GPU 0 | usage: 80.71% | total memory: 48 GB\n",
      "2025-09-13T07:39:02.118690+0000 | compress | METRIC - Compressed module size: 137.381888 MB\n",
      "2025-09-13T07:39:02.119579+0000 | on_sequential_batch_end | INFO - Quantizing model.layers.8.mlp.down_proj using 512 samples\n",
      "2025-09-13T07:39:10.484379+0000 | compress | METRIC - time 8.36s\n",
      "2025-09-13T07:39:10.487294+0000 | compress | METRIC - error 3909.47\n",
      "2025-09-13T07:39:10.488064+0000 | compress | METRIC - GPU 0 | usage: 80.71% | total memory: 48 GB\n",
      "2025-09-13T07:39:10.488458+0000 | compress | METRIC - Compressed module size: 137.381888 MB\n"
     ]
    },
    {
     "name": "stderr",
     "output_type": "stream",
     "text": [
      "(9/29): Propagating: 100%|██████████| 512/512 [00:02<00:00, 185.46it/s]\n",
      "(10/29): Calibrating: 100%|██████████| 512/512 [00:20<00:00, 25.55it/s]"
     ]
    },
    {
     "name": "stdout",
     "output_type": "stream",
     "text": [
      "2025-09-13T07:39:33.292836+0000 | on_sequential_batch_end | INFO - Quantizing model.layers.9.self_attn.q_proj using 512 samples\n"
     ]
    },
    {
     "name": "stderr",
     "output_type": "stream",
     "text": [
      "\n"
     ]
    },
    {
     "name": "stdout",
     "output_type": "stream",
     "text": [
      "2025-09-13T07:39:34.861383+0000 | compress | METRIC - time 1.57s\n",
      "2025-09-13T07:39:34.862495+0000 | compress | METRIC - error 11290.35\n",
      "2025-09-13T07:39:34.863109+0000 | compress | METRIC - GPU 0 | usage: 80.71% | total memory: 48 GB\n",
      "2025-09-13T07:39:34.863643+0000 | compress | METRIC - Compressed module size: 25.998336 MB\n",
      "2025-09-13T07:39:34.864322+0000 | on_sequential_batch_end | INFO - Quantizing model.layers.9.self_attn.k_proj using 512 samples\n",
      "2025-09-13T07:39:36.317787+0000 | compress | METRIC - time 1.45s\n",
      "2025-09-13T07:39:36.318831+0000 | compress | METRIC - error 1992.41\n",
      "2025-09-13T07:39:36.319520+0000 | compress | METRIC - GPU 0 | usage: 80.71% | total memory: 48 GB\n",
      "2025-09-13T07:39:36.319915+0000 | compress | METRIC - Compressed module size: 3.714048 MB\n",
      "2025-09-13T07:39:36.320657+0000 | on_sequential_batch_end | INFO - Quantizing model.layers.9.self_attn.v_proj using 512 samples\n",
      "2025-09-13T07:39:37.767665+0000 | compress | METRIC - time 1.45s\n",
      "2025-09-13T07:39:37.768695+0000 | compress | METRIC - error 1896.59\n",
      "2025-09-13T07:39:37.769346+0000 | compress | METRIC - GPU 0 | usage: 80.71% | total memory: 48 GB\n",
      "2025-09-13T07:39:37.769691+0000 | compress | METRIC - Compressed module size: 3.714048 MB\n",
      "2025-09-13T07:39:37.770417+0000 | on_sequential_batch_end | INFO - Quantizing model.layers.9.self_attn.o_proj using 512 samples\n",
      "2025-09-13T07:39:39.215975+0000 | compress | METRIC - time 1.45s\n",
      "2025-09-13T07:39:39.217025+0000 | compress | METRIC - error 1462.26\n",
      "2025-09-13T07:39:39.217805+0000 | compress | METRIC - GPU 0 | usage: 80.71% | total memory: 48 GB\n",
      "2025-09-13T07:39:39.218139+0000 | compress | METRIC - Compressed module size: 25.991168 MB\n",
      "2025-09-13T07:39:39.218823+0000 | on_sequential_batch_end | INFO - Quantizing model.layers.9.mlp.gate_proj using 512 samples\n",
      "2025-09-13T07:39:40.817012+0000 | compress | METRIC - time 1.60s\n",
      "2025-09-13T07:39:40.818077+0000 | compress | METRIC - error 113681.70\n",
      "2025-09-13T07:39:40.818831+0000 | compress | METRIC - GPU 0 | usage: 80.71% | total memory: 48 GB\n",
      "2025-09-13T07:39:40.819180+0000 | compress | METRIC - Compressed module size: 137.381888 MB\n",
      "2025-09-13T07:39:40.819871+0000 | on_sequential_batch_end | INFO - Quantizing model.layers.9.mlp.up_proj using 512 samples\n",
      "2025-09-13T07:39:42.377971+0000 | compress | METRIC - time 1.56s\n",
      "2025-09-13T07:39:42.378998+0000 | compress | METRIC - error 71281.42\n",
      "2025-09-13T07:39:42.379691+0000 | compress | METRIC - GPU 0 | usage: 80.71% | total memory: 48 GB\n",
      "2025-09-13T07:39:42.380157+0000 | compress | METRIC - Compressed module size: 137.381888 MB\n",
      "2025-09-13T07:39:42.380726+0000 | on_sequential_batch_end | INFO - Quantizing model.layers.9.mlp.down_proj using 512 samples\n",
      "2025-09-13T07:39:50.944200+0000 | compress | METRIC - time 8.56s\n",
      "2025-09-13T07:39:50.946791+0000 | compress | METRIC - error 3713.74\n",
      "2025-09-13T07:39:50.947518+0000 | compress | METRIC - GPU 0 | usage: 80.71% | total memory: 48 GB\n",
      "2025-09-13T07:39:50.947879+0000 | compress | METRIC - Compressed module size: 137.381888 MB\n"
     ]
    },
    {
     "name": "stderr",
     "output_type": "stream",
     "text": [
      "(10/29): Propagating: 100%|██████████| 512/512 [00:02<00:00, 185.20it/s]\n",
      "(11/29): Calibrating: 100%|██████████| 512/512 [00:20<00:00, 25.29it/s]"
     ]
    },
    {
     "name": "stdout",
     "output_type": "stream",
     "text": [
      "2025-09-13T07:40:13.965006+0000 | on_sequential_batch_end | INFO - Quantizing model.layers.10.self_attn.q_proj using 512 samples\n"
     ]
    },
    {
     "name": "stderr",
     "output_type": "stream",
     "text": [
      "\n"
     ]
    },
    {
     "name": "stdout",
     "output_type": "stream",
     "text": [
      "2025-09-13T07:40:15.426145+0000 | compress | METRIC - time 1.46s\n",
      "2025-09-13T07:40:15.427105+0000 | compress | METRIC - error 9752.68\n",
      "2025-09-13T07:40:15.427874+0000 | compress | METRIC - GPU 0 | usage: 80.71% | total memory: 48 GB\n",
      "2025-09-13T07:40:15.428201+0000 | compress | METRIC - Compressed module size: 25.998336 MB\n",
      "2025-09-13T07:40:15.428836+0000 | on_sequential_batch_end | INFO - Quantizing model.layers.10.self_attn.k_proj using 512 samples\n",
      "2025-09-13T07:40:16.825583+0000 | compress | METRIC - time 1.40s\n",
      "2025-09-13T07:40:16.826666+0000 | compress | METRIC - error 1867.76\n",
      "2025-09-13T07:40:16.827473+0000 | compress | METRIC - GPU 0 | usage: 80.71% | total memory: 48 GB\n",
      "2025-09-13T07:40:16.828021+0000 | compress | METRIC - Compressed module size: 3.714048 MB\n",
      "2025-09-13T07:40:16.828684+0000 | on_sequential_batch_end | INFO - Quantizing model.layers.10.self_attn.v_proj using 512 samples\n",
      "2025-09-13T07:40:18.212101+0000 | compress | METRIC - time 1.38s\n",
      "2025-09-13T07:40:18.213043+0000 | compress | METRIC - error 1095.62\n",
      "2025-09-13T07:40:18.213788+0000 | compress | METRIC - GPU 0 | usage: 80.71% | total memory: 48 GB\n",
      "2025-09-13T07:40:18.214187+0000 | compress | METRIC - Compressed module size: 3.714048 MB\n",
      "2025-09-13T07:40:18.214996+0000 | on_sequential_batch_end | INFO - Quantizing model.layers.10.self_attn.o_proj using 512 samples\n",
      "2025-09-13T07:40:19.633426+0000 | compress | METRIC - time 1.42s\n",
      "2025-09-13T07:40:19.634536+0000 | compress | METRIC - error 862.08\n",
      "2025-09-13T07:40:19.635085+0000 | compress | METRIC - GPU 0 | usage: 80.71% | total memory: 48 GB\n",
      "2025-09-13T07:40:19.635799+0000 | compress | METRIC - Compressed module size: 25.991168 MB\n",
      "2025-09-13T07:40:19.636592+0000 | on_sequential_batch_end | INFO - Quantizing model.layers.10.mlp.gate_proj using 512 samples\n",
      "2025-09-13T07:40:21.197896+0000 | compress | METRIC - time 1.56s\n",
      "2025-09-13T07:40:21.198967+0000 | compress | METRIC - error 44829.61\n",
      "2025-09-13T07:40:21.199612+0000 | compress | METRIC - GPU 0 | usage: 80.71% | total memory: 48 GB\n",
      "2025-09-13T07:40:21.199937+0000 | compress | METRIC - Compressed module size: 137.381888 MB\n",
      "2025-09-13T07:40:21.200603+0000 | on_sequential_batch_end | INFO - Quantizing model.layers.10.mlp.up_proj using 512 samples\n",
      "2025-09-13T07:40:22.771977+0000 | compress | METRIC - time 1.57s\n",
      "2025-09-13T07:40:22.772991+0000 | compress | METRIC - error 39728.82\n",
      "2025-09-13T07:40:22.773764+0000 | compress | METRIC - GPU 0 | usage: 80.71% | total memory: 48 GB\n",
      "2025-09-13T07:40:22.774150+0000 | compress | METRIC - Compressed module size: 137.381888 MB\n",
      "2025-09-13T07:40:22.774965+0000 | on_sequential_batch_end | INFO - Quantizing model.layers.10.mlp.down_proj using 512 samples\n",
      "2025-09-13T07:40:31.146269+0000 | compress | METRIC - time 8.37s\n",
      "2025-09-13T07:40:31.148793+0000 | compress | METRIC - error 3282.58\n",
      "2025-09-13T07:40:31.149481+0000 | compress | METRIC - GPU 0 | usage: 80.71% | total memory: 48 GB\n",
      "2025-09-13T07:40:31.149877+0000 | compress | METRIC - Compressed module size: 137.381888 MB\n"
     ]
    },
    {
     "name": "stderr",
     "output_type": "stream",
     "text": [
      "(11/29): Propagating: 100%|██████████| 512/512 [00:02<00:00, 182.78it/s]\n",
      "(12/29): Calibrating: 100%|██████████| 512/512 [00:20<00:00, 24.90it/s]"
     ]
    },
    {
     "name": "stdout",
     "output_type": "stream",
     "text": [
      "2025-09-13T07:40:54.518717+0000 | on_sequential_batch_end | INFO - Quantizing model.layers.11.self_attn.q_proj using 512 samples\n"
     ]
    },
    {
     "name": "stderr",
     "output_type": "stream",
     "text": [
      "\n"
     ]
    },
    {
     "name": "stdout",
     "output_type": "stream",
     "text": [
      "2025-09-13T07:40:56.035228+0000 | compress | METRIC - time 1.52s\n",
      "2025-09-13T07:40:56.036437+0000 | compress | METRIC - error 11233.37\n",
      "2025-09-13T07:40:56.037117+0000 | compress | METRIC - GPU 0 | usage: 80.71% | total memory: 48 GB\n",
      "2025-09-13T07:40:56.037573+0000 | compress | METRIC - Compressed module size: 25.998336 MB\n",
      "2025-09-13T07:40:56.038262+0000 | on_sequential_batch_end | INFO - Quantizing model.layers.11.self_attn.k_proj using 512 samples\n",
      "2025-09-13T07:40:57.470100+0000 | compress | METRIC - time 1.43s\n",
      "2025-09-13T07:40:57.471158+0000 | compress | METRIC - error 2421.30\n",
      "2025-09-13T07:40:57.471862+0000 | compress | METRIC - GPU 0 | usage: 80.71% | total memory: 48 GB\n",
      "2025-09-13T07:40:57.472347+0000 | compress | METRIC - Compressed module size: 3.714048 MB\n",
      "2025-09-13T07:40:57.472910+0000 | on_sequential_batch_end | INFO - Quantizing model.layers.11.self_attn.v_proj using 512 samples\n",
      "2025-09-13T07:40:58.900218+0000 | compress | METRIC - time 1.43s\n",
      "2025-09-13T07:40:58.901301+0000 | compress | METRIC - error 993.88\n",
      "2025-09-13T07:40:58.901976+0000 | compress | METRIC - GPU 0 | usage: 80.71% | total memory: 48 GB\n",
      "2025-09-13T07:40:58.902315+0000 | compress | METRIC - Compressed module size: 3.714048 MB\n",
      "2025-09-13T07:40:58.903035+0000 | on_sequential_batch_end | INFO - Quantizing model.layers.11.self_attn.o_proj using 512 samples\n",
      "2025-09-13T07:41:00.383654+0000 | compress | METRIC - time 1.48s\n",
      "2025-09-13T07:41:00.384690+0000 | compress | METRIC - error 864.58\n",
      "2025-09-13T07:41:00.385303+0000 | compress | METRIC - GPU 0 | usage: 80.71% | total memory: 48 GB\n",
      "2025-09-13T07:41:00.385705+0000 | compress | METRIC - Compressed module size: 25.991168 MB\n",
      "2025-09-13T07:41:00.386379+0000 | on_sequential_batch_end | INFO - Quantizing model.layers.11.mlp.gate_proj using 512 samples\n",
      "2025-09-13T07:41:02.002456+0000 | compress | METRIC - time 1.62s\n",
      "2025-09-13T07:41:02.003545+0000 | compress | METRIC - error 39146.48\n",
      "2025-09-13T07:41:02.004194+0000 | compress | METRIC - GPU 0 | usage: 80.71% | total memory: 48 GB\n",
      "2025-09-13T07:41:02.004671+0000 | compress | METRIC - Compressed module size: 137.381888 MB\n",
      "2025-09-13T07:41:02.005227+0000 | on_sequential_batch_end | INFO - Quantizing model.layers.11.mlp.up_proj using 512 samples\n",
      "2025-09-13T07:41:03.650606+0000 | compress | METRIC - time 1.65s\n",
      "2025-09-13T07:41:03.651590+0000 | compress | METRIC - error 37490.79\n",
      "2025-09-13T07:41:03.652239+0000 | compress | METRIC - GPU 0 | usage: 80.71% | total memory: 48 GB\n",
      "2025-09-13T07:41:03.652691+0000 | compress | METRIC - Compressed module size: 137.381888 MB\n",
      "2025-09-13T07:41:03.653385+0000 | on_sequential_batch_end | INFO - Quantizing model.layers.11.mlp.down_proj using 512 samples\n",
      "2025-09-13T07:41:12.168096+0000 | compress | METRIC - time 8.51s\n",
      "2025-09-13T07:41:12.171661+0000 | compress | METRIC - error 3063.11\n",
      "2025-09-13T07:41:12.172523+0000 | compress | METRIC - GPU 0 | usage: 80.71% | total memory: 48 GB\n",
      "2025-09-13T07:41:12.172871+0000 | compress | METRIC - Compressed module size: 137.381888 MB\n"
     ]
    },
    {
     "name": "stderr",
     "output_type": "stream",
     "text": [
      "(12/29): Propagating: 100%|██████████| 512/512 [00:02<00:00, 182.29it/s]\n",
      "(13/29): Calibrating: 100%|██████████| 512/512 [00:20<00:00, 24.88it/s]"
     ]
    },
    {
     "name": "stdout",
     "output_type": "stream",
     "text": [
      "2025-09-13T07:41:35.561543+0000 | on_sequential_batch_end | INFO - Quantizing model.layers.12.self_attn.q_proj using 512 samples\n"
     ]
    },
    {
     "name": "stderr",
     "output_type": "stream",
     "text": [
      "\n"
     ]
    },
    {
     "name": "stdout",
     "output_type": "stream",
     "text": [
      "2025-09-13T07:41:37.060499+0000 | compress | METRIC - time 1.50s\n",
      "2025-09-13T07:41:37.061507+0000 | compress | METRIC - error 11869.59\n",
      "2025-09-13T07:41:37.062246+0000 | compress | METRIC - GPU 0 | usage: 80.71% | total memory: 48 GB\n",
      "2025-09-13T07:41:37.062819+0000 | compress | METRIC - Compressed module size: 25.998336 MB\n",
      "2025-09-13T07:41:37.063526+0000 | on_sequential_batch_end | INFO - Quantizing model.layers.12.self_attn.k_proj using 512 samples\n",
      "2025-09-13T07:41:38.508928+0000 | compress | METRIC - time 1.45s\n",
      "2025-09-13T07:41:38.509874+0000 | compress | METRIC - error 2524.18\n",
      "2025-09-13T07:41:38.510620+0000 | compress | METRIC - GPU 0 | usage: 80.71% | total memory: 48 GB\n",
      "2025-09-13T07:41:38.511005+0000 | compress | METRIC - Compressed module size: 3.714048 MB\n",
      "2025-09-13T07:41:38.511857+0000 | on_sequential_batch_end | INFO - Quantizing model.layers.12.self_attn.v_proj using 512 samples\n",
      "2025-09-13T07:41:39.970132+0000 | compress | METRIC - time 1.46s\n",
      "2025-09-13T07:41:39.971202+0000 | compress | METRIC - error 1258.03\n",
      "2025-09-13T07:41:39.972002+0000 | compress | METRIC - GPU 0 | usage: 80.71% | total memory: 48 GB\n",
      "2025-09-13T07:41:39.972425+0000 | compress | METRIC - Compressed module size: 3.714048 MB\n",
      "2025-09-13T07:41:39.973237+0000 | on_sequential_batch_end | INFO - Quantizing model.layers.12.self_attn.o_proj using 512 samples\n",
      "2025-09-13T07:41:41.450756+0000 | compress | METRIC - time 1.48s\n",
      "2025-09-13T07:41:41.451494+0000 | compress | METRIC - error 894.31\n",
      "2025-09-13T07:41:41.452156+0000 | compress | METRIC - GPU 0 | usage: 80.71% | total memory: 48 GB\n",
      "2025-09-13T07:41:41.452540+0000 | compress | METRIC - Compressed module size: 25.991168 MB\n",
      "2025-09-13T07:41:41.453193+0000 | on_sequential_batch_end | INFO - Quantizing model.layers.12.mlp.gate_proj using 512 samples\n",
      "2025-09-13T07:41:43.071165+0000 | compress | METRIC - time 1.62s\n",
      "2025-09-13T07:41:43.072218+0000 | compress | METRIC - error 37129.05\n",
      "2025-09-13T07:41:43.072746+0000 | compress | METRIC - GPU 0 | usage: 80.71% | total memory: 48 GB\n",
      "2025-09-13T07:41:43.073128+0000 | compress | METRIC - Compressed module size: 137.381888 MB\n",
      "2025-09-13T07:41:43.074259+0000 | on_sequential_batch_end | INFO - Quantizing model.layers.12.mlp.up_proj using 512 samples\n",
      "2025-09-13T07:41:44.687051+0000 | compress | METRIC - time 1.61s\n",
      "2025-09-13T07:41:44.688089+0000 | compress | METRIC - error 37506.70\n",
      "2025-09-13T07:41:44.688730+0000 | compress | METRIC - GPU 0 | usage: 80.71% | total memory: 48 GB\n",
      "2025-09-13T07:41:44.689059+0000 | compress | METRIC - Compressed module size: 137.381888 MB\n",
      "2025-09-13T07:41:44.689708+0000 | on_sequential_batch_end | INFO - Quantizing model.layers.12.mlp.down_proj using 512 samples\n",
      "2025-09-13T07:41:53.195467+0000 | compress | METRIC - time 8.51s\n",
      "2025-09-13T07:41:53.196254+0000 | compress | METRIC - error 3085.29\n",
      "2025-09-13T07:41:53.196992+0000 | compress | METRIC - GPU 0 | usage: 80.71% | total memory: 48 GB\n",
      "2025-09-13T07:41:53.197411+0000 | compress | METRIC - Compressed module size: 137.381888 MB\n"
     ]
    },
    {
     "name": "stderr",
     "output_type": "stream",
     "text": [
      "(13/29): Propagating: 100%|██████████| 512/512 [00:02<00:00, 184.13it/s]\n",
      "(14/29): Calibrating: 100%|██████████| 512/512 [00:20<00:00, 24.94it/s]"
     ]
    },
    {
     "name": "stdout",
     "output_type": "stream",
     "text": [
      "2025-09-13T07:42:16.512225+0000 | on_sequential_batch_end | INFO - Quantizing model.layers.13.self_attn.q_proj using 512 samples\n"
     ]
    },
    {
     "name": "stderr",
     "output_type": "stream",
     "text": [
      "\n"
     ]
    },
    {
     "name": "stdout",
     "output_type": "stream",
     "text": [
      "2025-09-13T07:42:18.014267+0000 | compress | METRIC - time 1.50s\n",
      "2025-09-13T07:42:18.015301+0000 | compress | METRIC - error 12226.42\n",
      "2025-09-13T07:42:18.015975+0000 | compress | METRIC - GPU 0 | usage: 80.71% | total memory: 48 GB\n",
      "2025-09-13T07:42:18.016409+0000 | compress | METRIC - Compressed module size: 25.998336 MB\n",
      "2025-09-13T07:42:18.017228+0000 | on_sequential_batch_end | INFO - Quantizing model.layers.13.self_attn.k_proj using 512 samples\n",
      "2025-09-13T07:42:19.450676+0000 | compress | METRIC - time 1.43s\n",
      "2025-09-13T07:42:19.451791+0000 | compress | METRIC - error 2274.22\n",
      "2025-09-13T07:42:19.452462+0000 | compress | METRIC - GPU 0 | usage: 80.71% | total memory: 48 GB\n",
      "2025-09-13T07:42:19.452933+0000 | compress | METRIC - Compressed module size: 3.714048 MB\n",
      "2025-09-13T07:42:19.453903+0000 | on_sequential_batch_end | INFO - Quantizing model.layers.13.self_attn.v_proj using 512 samples\n",
      "2025-09-13T07:42:20.884351+0000 | compress | METRIC - time 1.43s\n",
      "2025-09-13T07:42:20.885478+0000 | compress | METRIC - error 1551.03\n",
      "2025-09-13T07:42:20.886310+0000 | compress | METRIC - GPU 0 | usage: 80.71% | total memory: 48 GB\n",
      "2025-09-13T07:42:20.886789+0000 | compress | METRIC - Compressed module size: 3.714048 MB\n",
      "2025-09-13T07:42:20.887701+0000 | on_sequential_batch_end | INFO - Quantizing model.layers.13.self_attn.o_proj using 512 samples\n",
      "2025-09-13T07:42:22.341411+0000 | compress | METRIC - time 1.45s\n",
      "2025-09-13T07:42:22.342463+0000 | compress | METRIC - error 1312.93\n",
      "2025-09-13T07:42:22.343251+0000 | compress | METRIC - GPU 0 | usage: 80.71% | total memory: 48 GB\n",
      "2025-09-13T07:42:22.343737+0000 | compress | METRIC - Compressed module size: 25.991168 MB\n",
      "2025-09-13T07:42:22.344638+0000 | on_sequential_batch_end | INFO - Quantizing model.layers.13.mlp.gate_proj using 512 samples\n",
      "2025-09-13T07:42:23.913936+0000 | compress | METRIC - time 1.57s\n",
      "2025-09-13T07:42:23.914930+0000 | compress | METRIC - error 39149.38\n",
      "2025-09-13T07:42:23.915733+0000 | compress | METRIC - GPU 0 | usage: 80.71% | total memory: 48 GB\n",
      "2025-09-13T07:42:23.916091+0000 | compress | METRIC - Compressed module size: 137.381888 MB\n",
      "2025-09-13T07:42:23.916801+0000 | on_sequential_batch_end | INFO - Quantizing model.layers.13.mlp.up_proj using 512 samples\n",
      "2025-09-13T07:42:25.509998+0000 | compress | METRIC - time 1.59s\n",
      "2025-09-13T07:42:25.510957+0000 | compress | METRIC - error 36865.31\n",
      "2025-09-13T07:42:25.511735+0000 | compress | METRIC - GPU 0 | usage: 80.71% | total memory: 48 GB\n",
      "2025-09-13T07:42:25.512093+0000 | compress | METRIC - Compressed module size: 137.381888 MB\n",
      "2025-09-13T07:42:25.512801+0000 | on_sequential_batch_end | INFO - Quantizing model.layers.13.mlp.down_proj using 512 samples\n",
      "2025-09-13T07:42:33.836161+0000 | compress | METRIC - time 8.32s\n",
      "2025-09-13T07:42:33.838618+0000 | compress | METRIC - error 2974.21\n",
      "2025-09-13T07:42:33.839249+0000 | compress | METRIC - GPU 0 | usage: 80.71% | total memory: 48 GB\n",
      "2025-09-13T07:42:33.839651+0000 | compress | METRIC - Compressed module size: 137.381888 MB\n"
     ]
    },
    {
     "name": "stderr",
     "output_type": "stream",
     "text": [
      "(14/29): Propagating: 100%|██████████| 512/512 [00:02<00:00, 184.16it/s]\n",
      "(15/29): Calibrating: 100%|██████████| 512/512 [00:20<00:00, 25.29it/s]"
     ]
    },
    {
     "name": "stdout",
     "output_type": "stream",
     "text": [
      "2025-09-13T07:42:56.869435+0000 | on_sequential_batch_end | INFO - Quantizing model.layers.14.self_attn.q_proj using 512 samples\n"
     ]
    },
    {
     "name": "stderr",
     "output_type": "stream",
     "text": [
      "\n"
     ]
    },
    {
     "name": "stdout",
     "output_type": "stream",
     "text": [
      "2025-09-13T07:42:58.343155+0000 | compress | METRIC - time 1.47s\n",
      "2025-09-13T07:42:58.344219+0000 | compress | METRIC - error 17300.34\n",
      "2025-09-13T07:42:58.344857+0000 | compress | METRIC - GPU 0 | usage: 80.71% | total memory: 48 GB\n",
      "2025-09-13T07:42:58.345209+0000 | compress | METRIC - Compressed module size: 25.998336 MB\n",
      "2025-09-13T07:42:58.345860+0000 | on_sequential_batch_end | INFO - Quantizing model.layers.14.self_attn.k_proj using 512 samples\n",
      "2025-09-13T07:42:59.789548+0000 | compress | METRIC - time 1.44s\n",
      "2025-09-13T07:42:59.790623+0000 | compress | METRIC - error 3375.02\n",
      "2025-09-13T07:42:59.791234+0000 | compress | METRIC - GPU 0 | usage: 80.71% | total memory: 48 GB\n",
      "2025-09-13T07:42:59.791598+0000 | compress | METRIC - Compressed module size: 3.714048 MB\n",
      "2025-09-13T07:42:59.792285+0000 | on_sequential_batch_end | INFO - Quantizing model.layers.14.self_attn.v_proj using 512 samples\n",
      "2025-09-13T07:43:01.225540+0000 | compress | METRIC - time 1.43s\n",
      "2025-09-13T07:43:01.226693+0000 | compress | METRIC - error 1673.80\n",
      "2025-09-13T07:43:01.227452+0000 | compress | METRIC - GPU 0 | usage: 80.71% | total memory: 48 GB\n",
      "2025-09-13T07:43:01.227885+0000 | compress | METRIC - Compressed module size: 3.714048 MB\n",
      "2025-09-13T07:43:01.228590+0000 | on_sequential_batch_end | INFO - Quantizing model.layers.14.self_attn.o_proj using 512 samples\n",
      "2025-09-13T07:43:02.652001+0000 | compress | METRIC - time 1.42s\n",
      "2025-09-13T07:43:02.652981+0000 | compress | METRIC - error 1079.24\n",
      "2025-09-13T07:43:02.653700+0000 | compress | METRIC - GPU 0 | usage: 80.71% | total memory: 48 GB\n",
      "2025-09-13T07:43:02.654059+0000 | compress | METRIC - Compressed module size: 25.991168 MB\n",
      "2025-09-13T07:43:02.654693+0000 | on_sequential_batch_end | INFO - Quantizing model.layers.14.mlp.gate_proj using 512 samples\n",
      "2025-09-13T07:43:04.300447+0000 | compress | METRIC - time 1.65s\n",
      "2025-09-13T07:43:04.301514+0000 | compress | METRIC - error 40662.73\n",
      "2025-09-13T07:43:04.302160+0000 | compress | METRIC - GPU 0 | usage: 80.71% | total memory: 48 GB\n",
      "2025-09-13T07:43:04.302593+0000 | compress | METRIC - Compressed module size: 137.381888 MB\n",
      "2025-09-13T07:43:04.303367+0000 | on_sequential_batch_end | INFO - Quantizing model.layers.14.mlp.up_proj using 512 samples\n",
      "2025-09-13T07:43:05.868624+0000 | compress | METRIC - time 1.56s\n",
      "2025-09-13T07:43:05.869580+0000 | compress | METRIC - error 40720.02\n",
      "2025-09-13T07:43:05.870230+0000 | compress | METRIC - GPU 0 | usage: 80.71% | total memory: 48 GB\n",
      "2025-09-13T07:43:05.870694+0000 | compress | METRIC - Compressed module size: 137.381888 MB\n",
      "2025-09-13T07:43:05.871491+0000 | on_sequential_batch_end | INFO - Quantizing model.layers.14.mlp.down_proj using 512 samples\n",
      "2025-09-13T07:43:14.561510+0000 | compress | METRIC - time 8.69s\n",
      "2025-09-13T07:43:14.563965+0000 | compress | METRIC - error 3315.95\n",
      "2025-09-13T07:43:14.564634+0000 | compress | METRIC - GPU 0 | usage: 80.71% | total memory: 48 GB\n",
      "2025-09-13T07:43:14.565064+0000 | compress | METRIC - Compressed module size: 137.381888 MB\n"
     ]
    },
    {
     "name": "stderr",
     "output_type": "stream",
     "text": [
      "(15/29): Propagating: 100%|██████████| 512/512 [00:02<00:00, 184.13it/s]\n",
      "(16/29): Calibrating: 100%|██████████| 512/512 [00:20<00:00, 25.49it/s]"
     ]
    },
    {
     "name": "stdout",
     "output_type": "stream",
     "text": [
      "2025-09-13T07:43:37.435985+0000 | on_sequential_batch_end | INFO - Quantizing model.layers.15.self_attn.q_proj using 512 samples\n"
     ]
    },
    {
     "name": "stderr",
     "output_type": "stream",
     "text": [
      "\n"
     ]
    },
    {
     "name": "stdout",
     "output_type": "stream",
     "text": [
      "2025-09-13T07:43:38.916368+0000 | compress | METRIC - time 1.48s\n",
      "2025-09-13T07:43:38.917399+0000 | compress | METRIC - error 12707.10\n",
      "2025-09-13T07:43:38.918198+0000 | compress | METRIC - GPU 0 | usage: 80.71% | total memory: 48 GB\n",
      "2025-09-13T07:43:38.918675+0000 | compress | METRIC - Compressed module size: 25.998336 MB\n",
      "2025-09-13T07:43:38.919610+0000 | on_sequential_batch_end | INFO - Quantizing model.layers.15.self_attn.k_proj using 512 samples\n",
      "2025-09-13T07:43:40.360209+0000 | compress | METRIC - time 1.44s\n",
      "2025-09-13T07:43:40.361227+0000 | compress | METRIC - error 2774.93\n",
      "2025-09-13T07:43:40.362062+0000 | compress | METRIC - GPU 0 | usage: 80.71% | total memory: 48 GB\n",
      "2025-09-13T07:43:40.362519+0000 | compress | METRIC - Compressed module size: 3.714048 MB\n",
      "2025-09-13T07:43:40.363475+0000 | on_sequential_batch_end | INFO - Quantizing model.layers.15.self_attn.v_proj using 512 samples\n",
      "2025-09-13T07:43:41.817873+0000 | compress | METRIC - time 1.45s\n",
      "2025-09-13T07:43:41.818918+0000 | compress | METRIC - error 1200.35\n",
      "2025-09-13T07:43:41.819790+0000 | compress | METRIC - GPU 0 | usage: 80.71% | total memory: 48 GB\n",
      "2025-09-13T07:43:41.820232+0000 | compress | METRIC - Compressed module size: 3.714048 MB\n",
      "2025-09-13T07:43:41.821119+0000 | on_sequential_batch_end | INFO - Quantizing model.layers.15.self_attn.o_proj using 512 samples\n",
      "2025-09-13T07:43:43.289899+0000 | compress | METRIC - time 1.47s\n",
      "2025-09-13T07:43:43.290872+0000 | compress | METRIC - error 906.82\n",
      "2025-09-13T07:43:43.291869+0000 | compress | METRIC - GPU 0 | usage: 80.71% | total memory: 48 GB\n",
      "2025-09-13T07:43:43.292299+0000 | compress | METRIC - Compressed module size: 25.991168 MB\n",
      "2025-09-13T07:43:43.293156+0000 | on_sequential_batch_end | INFO - Quantizing model.layers.15.mlp.gate_proj using 512 samples\n",
      "2025-09-13T07:43:44.908785+0000 | compress | METRIC - time 1.62s\n",
      "2025-09-13T07:43:44.909847+0000 | compress | METRIC - error 35896.82\n",
      "2025-09-13T07:43:44.910609+0000 | compress | METRIC - GPU 0 | usage: 80.71% | total memory: 48 GB\n",
      "2025-09-13T07:43:44.911037+0000 | compress | METRIC - Compressed module size: 137.381888 MB\n",
      "2025-09-13T07:43:44.911978+0000 | on_sequential_batch_end | INFO - Quantizing model.layers.15.mlp.up_proj using 512 samples\n",
      "2025-09-13T07:43:46.515907+0000 | compress | METRIC - time 1.60s\n",
      "2025-09-13T07:43:46.516855+0000 | compress | METRIC - error 37170.42\n",
      "2025-09-13T07:43:46.517623+0000 | compress | METRIC - GPU 0 | usage: 80.71% | total memory: 48 GB\n",
      "2025-09-13T07:43:46.518083+0000 | compress | METRIC - Compressed module size: 137.381888 MB\n",
      "2025-09-13T07:43:46.518976+0000 | on_sequential_batch_end | INFO - Quantizing model.layers.15.mlp.down_proj using 512 samples\n",
      "2025-09-13T07:43:55.030467+0000 | compress | METRIC - time 8.51s\n",
      "2025-09-13T07:43:55.032961+0000 | compress | METRIC - error 3128.59\n",
      "2025-09-13T07:43:55.033577+0000 | compress | METRIC - GPU 0 | usage: 80.71% | total memory: 48 GB\n",
      "2025-09-13T07:43:55.033927+0000 | compress | METRIC - Compressed module size: 137.381888 MB\n"
     ]
    },
    {
     "name": "stderr",
     "output_type": "stream",
     "text": [
      "(16/29): Propagating: 100%|██████████| 512/512 [00:02<00:00, 184.61it/s]\n",
      "(17/29): Calibrating: 100%|██████████| 512/512 [00:20<00:00, 25.27it/s]"
     ]
    },
    {
     "name": "stdout",
     "output_type": "stream",
     "text": [
      "2025-09-13T07:44:18.069192+0000 | on_sequential_batch_end | INFO - Quantizing model.layers.16.self_attn.q_proj using 512 samples\n"
     ]
    },
    {
     "name": "stderr",
     "output_type": "stream",
     "text": [
      "\n"
     ]
    },
    {
     "name": "stdout",
     "output_type": "stream",
     "text": [
      "2025-09-13T07:44:19.606971+0000 | compress | METRIC - time 1.54s\n",
      "2025-09-13T07:44:19.607978+0000 | compress | METRIC - error 13904.45\n",
      "2025-09-13T07:44:19.608672+0000 | compress | METRIC - GPU 0 | usage: 80.71% | total memory: 48 GB\n",
      "2025-09-13T07:44:19.609017+0000 | compress | METRIC - Compressed module size: 25.998336 MB\n",
      "2025-09-13T07:44:19.609735+0000 | on_sequential_batch_end | INFO - Quantizing model.layers.16.self_attn.k_proj using 512 samples\n",
      "2025-09-13T07:44:21.037566+0000 | compress | METRIC - time 1.43s\n",
      "2025-09-13T07:44:21.038635+0000 | compress | METRIC - error 2701.95\n",
      "2025-09-13T07:44:21.039263+0000 | compress | METRIC - GPU 0 | usage: 80.71% | total memory: 48 GB\n",
      "2025-09-13T07:44:21.039625+0000 | compress | METRIC - Compressed module size: 3.714048 MB\n",
      "2025-09-13T07:44:21.040324+0000 | on_sequential_batch_end | INFO - Quantizing model.layers.16.self_attn.v_proj using 512 samples\n",
      "2025-09-13T07:44:22.459677+0000 | compress | METRIC - time 1.42s\n",
      "2025-09-13T07:44:22.460679+0000 | compress | METRIC - error 1871.94\n",
      "2025-09-13T07:44:22.461360+0000 | compress | METRIC - GPU 0 | usage: 80.71% | total memory: 48 GB\n",
      "2025-09-13T07:44:22.461722+0000 | compress | METRIC - Compressed module size: 3.714048 MB\n",
      "2025-09-13T07:44:22.462442+0000 | on_sequential_batch_end | INFO - Quantizing model.layers.16.self_attn.o_proj using 512 samples\n",
      "2025-09-13T07:44:23.923993+0000 | compress | METRIC - time 1.46s\n",
      "2025-09-13T07:44:23.925038+0000 | compress | METRIC - error 1281.58\n",
      "2025-09-13T07:44:23.925833+0000 | compress | METRIC - GPU 0 | usage: 80.71% | total memory: 48 GB\n",
      "2025-09-13T07:44:23.926195+0000 | compress | METRIC - Compressed module size: 25.991168 MB\n",
      "2025-09-13T07:44:23.926878+0000 | on_sequential_batch_end | INFO - Quantizing model.layers.16.mlp.gate_proj using 512 samples\n",
      "2025-09-13T07:44:25.503894+0000 | compress | METRIC - time 1.58s\n",
      "2025-09-13T07:44:25.504952+0000 | compress | METRIC - error 36451.47\n",
      "2025-09-13T07:44:25.505584+0000 | compress | METRIC - GPU 0 | usage: 80.71% | total memory: 48 GB\n",
      "2025-09-13T07:44:25.505912+0000 | compress | METRIC - Compressed module size: 137.381888 MB\n",
      "2025-09-13T07:44:25.506576+0000 | on_sequential_batch_end | INFO - Quantizing model.layers.16.mlp.up_proj using 512 samples\n",
      "2025-09-13T07:44:27.134931+0000 | compress | METRIC - time 1.63s\n",
      "2025-09-13T07:44:27.136021+0000 | compress | METRIC - error 37642.85\n",
      "2025-09-13T07:44:27.136667+0000 | compress | METRIC - GPU 0 | usage: 80.71% | total memory: 48 GB\n",
      "2025-09-13T07:44:27.137074+0000 | compress | METRIC - Compressed module size: 137.381888 MB\n",
      "2025-09-13T07:44:27.137719+0000 | on_sequential_batch_end | INFO - Quantizing model.layers.16.mlp.down_proj using 512 samples\n",
      "2025-09-13T07:44:35.792869+0000 | compress | METRIC - time 8.65s\n",
      "2025-09-13T07:44:35.795400+0000 | compress | METRIC - error 3207.98\n",
      "2025-09-13T07:44:35.796144+0000 | compress | METRIC - GPU 0 | usage: 80.71% | total memory: 48 GB\n",
      "2025-09-13T07:44:35.796549+0000 | compress | METRIC - Compressed module size: 137.381888 MB\n"
     ]
    },
    {
     "name": "stderr",
     "output_type": "stream",
     "text": [
      "(17/29): Propagating: 100%|██████████| 512/512 [00:02<00:00, 183.20it/s]\n",
      "(18/29): Calibrating: 100%|██████████| 512/512 [00:20<00:00, 24.92it/s]"
     ]
    },
    {
     "name": "stdout",
     "output_type": "stream",
     "text": [
      "2025-09-13T07:44:59.137060+0000 | on_sequential_batch_end | INFO - Quantizing model.layers.17.self_attn.q_proj using 512 samples\n"
     ]
    },
    {
     "name": "stderr",
     "output_type": "stream",
     "text": [
      "\n"
     ]
    },
    {
     "name": "stdout",
     "output_type": "stream",
     "text": [
      "2025-09-13T07:45:00.654415+0000 | compress | METRIC - time 1.52s\n",
      "2025-09-13T07:45:00.655429+0000 | compress | METRIC - error 15815.09\n",
      "2025-09-13T07:45:00.656158+0000 | compress | METRIC - GPU 0 | usage: 80.71% | total memory: 48 GB\n",
      "2025-09-13T07:45:00.656549+0000 | compress | METRIC - Compressed module size: 25.998336 MB\n",
      "2025-09-13T07:45:00.657221+0000 | on_sequential_batch_end | INFO - Quantizing model.layers.17.self_attn.k_proj using 512 samples\n",
      "2025-09-13T07:45:02.119753+0000 | compress | METRIC - time 1.46s\n",
      "2025-09-13T07:45:02.120821+0000 | compress | METRIC - error 2704.02\n",
      "2025-09-13T07:45:02.121618+0000 | compress | METRIC - GPU 0 | usage: 80.71% | total memory: 48 GB\n",
      "2025-09-13T07:45:02.122051+0000 | compress | METRIC - Compressed module size: 3.714048 MB\n",
      "2025-09-13T07:45:02.122758+0000 | on_sequential_batch_end | INFO - Quantizing model.layers.17.self_attn.v_proj using 512 samples\n",
      "2025-09-13T07:45:03.580749+0000 | compress | METRIC - time 1.46s\n",
      "2025-09-13T07:45:03.581872+0000 | compress | METRIC - error 2036.04\n",
      "2025-09-13T07:45:03.582622+0000 | compress | METRIC - GPU 0 | usage: 80.71% | total memory: 48 GB\n",
      "2025-09-13T07:45:03.583000+0000 | compress | METRIC - Compressed module size: 3.714048 MB\n",
      "2025-09-13T07:45:03.583694+0000 | on_sequential_batch_end | INFO - Quantizing model.layers.17.self_attn.o_proj using 512 samples\n",
      "2025-09-13T07:45:05.037830+0000 | compress | METRIC - time 1.45s\n",
      "2025-09-13T07:45:05.038906+0000 | compress | METRIC - error 1200.57\n",
      "2025-09-13T07:45:05.039631+0000 | compress | METRIC - GPU 0 | usage: 80.71% | total memory: 48 GB\n",
      "2025-09-13T07:45:05.039984+0000 | compress | METRIC - Compressed module size: 25.991168 MB\n",
      "2025-09-13T07:45:05.040645+0000 | on_sequential_batch_end | INFO - Quantizing model.layers.17.mlp.gate_proj using 512 samples\n",
      "2025-09-13T07:45:06.644222+0000 | compress | METRIC - time 1.60s\n",
      "2025-09-13T07:45:06.645300+0000 | compress | METRIC - error 41423.27\n",
      "2025-09-13T07:45:06.646076+0000 | compress | METRIC - GPU 0 | usage: 80.71% | total memory: 48 GB\n",
      "2025-09-13T07:45:06.646585+0000 | compress | METRIC - Compressed module size: 137.381888 MB\n",
      "2025-09-13T07:45:06.647176+0000 | on_sequential_batch_end | INFO - Quantizing model.layers.17.mlp.up_proj using 512 samples\n",
      "2025-09-13T07:45:08.246737+0000 | compress | METRIC - time 1.60s\n",
      "2025-09-13T07:45:08.247725+0000 | compress | METRIC - error 43690.76\n",
      "2025-09-13T07:45:08.248388+0000 | compress | METRIC - GPU 0 | usage: 80.71% | total memory: 48 GB\n",
      "2025-09-13T07:45:08.248849+0000 | compress | METRIC - Compressed module size: 137.381888 MB\n",
      "2025-09-13T07:45:08.249398+0000 | on_sequential_batch_end | INFO - Quantizing model.layers.17.mlp.down_proj using 512 samples\n",
      "2025-09-13T07:45:16.688590+0000 | compress | METRIC - time 8.44s\n",
      "2025-09-13T07:45:16.691322+0000 | compress | METRIC - error 4270.84\n",
      "2025-09-13T07:45:16.691944+0000 | compress | METRIC - GPU 0 | usage: 80.71% | total memory: 48 GB\n",
      "2025-09-13T07:45:16.692284+0000 | compress | METRIC - Compressed module size: 137.381888 MB\n"
     ]
    },
    {
     "name": "stderr",
     "output_type": "stream",
     "text": [
      "(18/29): Propagating: 100%|██████████| 512/512 [00:02<00:00, 184.45it/s]\n",
      "(19/29): Calibrating: 100%|██████████| 512/512 [00:20<00:00, 25.44it/s]"
     ]
    },
    {
     "name": "stdout",
     "output_type": "stream",
     "text": [
      "2025-09-13T07:45:39.600541+0000 | on_sequential_batch_end | INFO - Quantizing model.layers.18.self_attn.q_proj using 512 samples\n"
     ]
    },
    {
     "name": "stderr",
     "output_type": "stream",
     "text": [
      "\n"
     ]
    },
    {
     "name": "stdout",
     "output_type": "stream",
     "text": [
      "2025-09-13T07:45:41.117193+0000 | compress | METRIC - time 1.52s\n",
      "2025-09-13T07:45:41.117846+0000 | compress | METRIC - error 12440.67\n",
      "2025-09-13T07:45:41.118564+0000 | compress | METRIC - GPU 0 | usage: 80.71% | total memory: 48 GB\n",
      "2025-09-13T07:45:41.118929+0000 | compress | METRIC - Compressed module size: 25.998336 MB\n",
      "2025-09-13T07:45:41.119649+0000 | on_sequential_batch_end | INFO - Quantizing model.layers.18.self_attn.k_proj using 512 samples\n",
      "2025-09-13T07:45:42.575902+0000 | compress | METRIC - time 1.46s\n",
      "2025-09-13T07:45:42.576917+0000 | compress | METRIC - error 2127.24\n",
      "2025-09-13T07:45:42.577701+0000 | compress | METRIC - GPU 0 | usage: 80.71% | total memory: 48 GB\n",
      "2025-09-13T07:45:42.578324+0000 | compress | METRIC - Compressed module size: 3.714048 MB\n",
      "2025-09-13T07:45:42.579088+0000 | on_sequential_batch_end | INFO - Quantizing model.layers.18.self_attn.v_proj using 512 samples\n",
      "2025-09-13T07:45:44.040511+0000 | compress | METRIC - time 1.46s\n",
      "2025-09-13T07:45:44.041586+0000 | compress | METRIC - error 2291.88\n",
      "2025-09-13T07:45:44.042344+0000 | compress | METRIC - GPU 0 | usage: 80.71% | total memory: 48 GB\n",
      "2025-09-13T07:45:44.042724+0000 | compress | METRIC - Compressed module size: 3.714048 MB\n",
      "2025-09-13T07:45:44.043564+0000 | on_sequential_batch_end | INFO - Quantizing model.layers.18.self_attn.o_proj using 512 samples\n",
      "2025-09-13T07:45:45.533866+0000 | compress | METRIC - time 1.49s\n",
      "2025-09-13T07:45:45.534798+0000 | compress | METRIC - error 2299.49\n",
      "2025-09-13T07:45:45.535603+0000 | compress | METRIC - GPU 0 | usage: 80.71% | total memory: 48 GB\n",
      "2025-09-13T07:45:45.536154+0000 | compress | METRIC - Compressed module size: 25.991168 MB\n",
      "2025-09-13T07:45:45.536814+0000 | on_sequential_batch_end | INFO - Quantizing model.layers.18.mlp.gate_proj using 512 samples\n",
      "2025-09-13T07:45:47.204552+0000 | compress | METRIC - time 1.67s\n",
      "2025-09-13T07:45:47.205618+0000 | compress | METRIC - error 44602.63\n",
      "2025-09-13T07:45:47.206371+0000 | compress | METRIC - GPU 0 | usage: 80.71% | total memory: 48 GB\n",
      "2025-09-13T07:45:47.206913+0000 | compress | METRIC - Compressed module size: 137.381888 MB\n",
      "2025-09-13T07:45:47.207577+0000 | on_sequential_batch_end | INFO - Quantizing model.layers.18.mlp.up_proj using 512 samples\n",
      "2025-09-13T07:45:48.802227+0000 | compress | METRIC - time 1.59s\n",
      "2025-09-13T07:45:48.803389+0000 | compress | METRIC - error 47831.90\n",
      "2025-09-13T07:45:48.804177+0000 | compress | METRIC - GPU 0 | usage: 80.71% | total memory: 48 GB\n",
      "2025-09-13T07:45:48.804598+0000 | compress | METRIC - Compressed module size: 137.381888 MB\n",
      "2025-09-13T07:45:48.805465+0000 | on_sequential_batch_end | INFO - Quantizing model.layers.18.mlp.down_proj using 512 samples\n",
      "2025-09-13T07:45:57.302194+0000 | compress | METRIC - time 8.50s\n",
      "2025-09-13T07:45:57.305931+0000 | compress | METRIC - error 5529.42\n",
      "2025-09-13T07:45:57.306725+0000 | compress | METRIC - GPU 0 | usage: 80.71% | total memory: 48 GB\n",
      "2025-09-13T07:45:57.307109+0000 | compress | METRIC - Compressed module size: 137.381888 MB\n"
     ]
    },
    {
     "name": "stderr",
     "output_type": "stream",
     "text": [
      "(19/29): Propagating: 100%|██████████| 512/512 [00:02<00:00, 183.46it/s]\n",
      "(20/29): Calibrating: 100%|██████████| 512/512 [00:20<00:00, 25.30it/s]"
     ]
    },
    {
     "name": "stdout",
     "output_type": "stream",
     "text": [
      "2025-09-13T07:46:20.338170+0000 | on_sequential_batch_end | INFO - Quantizing model.layers.19.self_attn.q_proj using 512 samples\n"
     ]
    },
    {
     "name": "stderr",
     "output_type": "stream",
     "text": [
      "\n"
     ]
    },
    {
     "name": "stdout",
     "output_type": "stream",
     "text": [
      "2025-09-13T07:46:21.816723+0000 | compress | METRIC - time 1.48s\n",
      "2025-09-13T07:46:21.817784+0000 | compress | METRIC - error 16129.55\n",
      "2025-09-13T07:46:21.818676+0000 | compress | METRIC - GPU 0 | usage: 80.71% | total memory: 48 GB\n",
      "2025-09-13T07:46:21.819082+0000 | compress | METRIC - Compressed module size: 25.998336 MB\n",
      "2025-09-13T07:46:21.820011+0000 | on_sequential_batch_end | INFO - Quantizing model.layers.19.self_attn.k_proj using 512 samples\n",
      "2025-09-13T07:46:23.234268+0000 | compress | METRIC - time 1.41s\n",
      "2025-09-13T07:46:23.235253+0000 | compress | METRIC - error 2512.22\n",
      "2025-09-13T07:46:23.236033+0000 | compress | METRIC - GPU 0 | usage: 80.71% | total memory: 48 GB\n",
      "2025-09-13T07:46:23.236501+0000 | compress | METRIC - Compressed module size: 3.714048 MB\n",
      "2025-09-13T07:46:23.237382+0000 | on_sequential_batch_end | INFO - Quantizing model.layers.19.self_attn.v_proj using 512 samples\n",
      "2025-09-13T07:46:24.644565+0000 | compress | METRIC - time 1.41s\n",
      "2025-09-13T07:46:24.645592+0000 | compress | METRIC - error 3051.93\n",
      "2025-09-13T07:46:24.646527+0000 | compress | METRIC - GPU 0 | usage: 80.71% | total memory: 48 GB\n",
      "2025-09-13T07:46:24.646943+0000 | compress | METRIC - Compressed module size: 3.714048 MB\n",
      "2025-09-13T07:46:24.647838+0000 | on_sequential_batch_end | INFO - Quantizing model.layers.19.self_attn.o_proj using 512 samples\n",
      "2025-09-13T07:46:26.114820+0000 | compress | METRIC - time 1.47s\n",
      "2025-09-13T07:46:26.115976+0000 | compress | METRIC - error 2632.09\n",
      "2025-09-13T07:46:26.116899+0000 | compress | METRIC - GPU 0 | usage: 80.71% | total memory: 48 GB\n",
      "2025-09-13T07:46:26.117555+0000 | compress | METRIC - Compressed module size: 25.991168 MB\n",
      "2025-09-13T07:46:26.118223+0000 | on_sequential_batch_end | INFO - Quantizing model.layers.19.mlp.gate_proj using 512 samples\n",
      "2025-09-13T07:46:27.673779+0000 | compress | METRIC - time 1.56s\n",
      "2025-09-13T07:46:27.674759+0000 | compress | METRIC - error 52265.56\n",
      "2025-09-13T07:46:27.675688+0000 | compress | METRIC - GPU 0 | usage: 80.71% | total memory: 48 GB\n",
      "2025-09-13T07:46:27.676126+0000 | compress | METRIC - Compressed module size: 137.381888 MB\n",
      "2025-09-13T07:46:27.677034+0000 | on_sequential_batch_end | INFO - Quantizing model.layers.19.mlp.up_proj using 512 samples\n",
      "2025-09-13T07:46:29.295320+0000 | compress | METRIC - time 1.62s\n",
      "2025-09-13T07:46:29.296413+0000 | compress | METRIC - error 53206.85\n",
      "2025-09-13T07:46:29.297043+0000 | compress | METRIC - GPU 0 | usage: 80.71% | total memory: 48 GB\n",
      "2025-09-13T07:46:29.297403+0000 | compress | METRIC - Compressed module size: 137.381888 MB\n",
      "2025-09-13T07:46:29.298030+0000 | on_sequential_batch_end | INFO - Quantizing model.layers.19.mlp.down_proj using 512 samples\n",
      "2025-09-13T07:46:37.837991+0000 | compress | METRIC - time 8.54s\n",
      "2025-09-13T07:46:37.840591+0000 | compress | METRIC - error 7610.72\n",
      "2025-09-13T07:46:37.841293+0000 | compress | METRIC - GPU 0 | usage: 80.71% | total memory: 48 GB\n",
      "2025-09-13T07:46:37.841711+0000 | compress | METRIC - Compressed module size: 137.381888 MB\n"
     ]
    },
    {
     "name": "stderr",
     "output_type": "stream",
     "text": [
      "(20/29): Propagating: 100%|██████████| 512/512 [00:02<00:00, 183.02it/s]\n",
      "(21/29): Calibrating: 100%|██████████| 512/512 [00:20<00:00, 24.89it/s]"
     ]
    },
    {
     "name": "stdout",
     "output_type": "stream",
     "text": [
      "2025-09-13T07:47:01.209991+0000 | on_sequential_batch_end | INFO - Quantizing model.layers.20.self_attn.q_proj using 512 samples\n"
     ]
    },
    {
     "name": "stderr",
     "output_type": "stream",
     "text": [
      "\n"
     ]
    },
    {
     "name": "stdout",
     "output_type": "stream",
     "text": [
      "2025-09-13T07:47:02.724048+0000 | compress | METRIC - time 1.51s\n",
      "2025-09-13T07:47:02.725069+0000 | compress | METRIC - error 14406.10\n",
      "2025-09-13T07:47:02.725688+0000 | compress | METRIC - GPU 0 | usage: 80.71% | total memory: 48 GB\n",
      "2025-09-13T07:47:02.726151+0000 | compress | METRIC - Compressed module size: 25.998336 MB\n",
      "2025-09-13T07:47:02.726738+0000 | on_sequential_batch_end | INFO - Quantizing model.layers.20.self_attn.k_proj using 512 samples\n",
      "2025-09-13T07:47:04.147440+0000 | compress | METRIC - time 1.42s\n",
      "2025-09-13T07:47:04.148471+0000 | compress | METRIC - error 2370.37\n",
      "2025-09-13T07:47:04.149234+0000 | compress | METRIC - GPU 0 | usage: 80.71% | total memory: 48 GB\n",
      "2025-09-13T07:47:04.149702+0000 | compress | METRIC - Compressed module size: 3.714048 MB\n",
      "2025-09-13T07:47:04.150589+0000 | on_sequential_batch_end | INFO - Quantizing model.layers.20.self_attn.v_proj using 512 samples\n",
      "2025-09-13T07:47:05.572240+0000 | compress | METRIC - time 1.42s\n",
      "2025-09-13T07:47:05.573292+0000 | compress | METRIC - error 3122.10\n",
      "2025-09-13T07:47:05.573961+0000 | compress | METRIC - GPU 0 | usage: 80.71% | total memory: 48 GB\n",
      "2025-09-13T07:47:05.574459+0000 | compress | METRIC - Compressed module size: 3.714048 MB\n",
      "2025-09-13T07:47:05.575033+0000 | on_sequential_batch_end | INFO - Quantizing model.layers.20.self_attn.o_proj using 512 samples\n",
      "2025-09-13T07:47:07.030678+0000 | compress | METRIC - time 1.46s\n",
      "2025-09-13T07:47:07.031740+0000 | compress | METRIC - error 2193.56\n",
      "2025-09-13T07:47:07.032384+0000 | compress | METRIC - GPU 0 | usage: 80.71% | total memory: 48 GB\n",
      "2025-09-13T07:47:07.032733+0000 | compress | METRIC - Compressed module size: 25.991168 MB\n",
      "2025-09-13T07:47:07.033406+0000 | on_sequential_batch_end | INFO - Quantizing model.layers.20.mlp.gate_proj using 512 samples\n",
      "2025-09-13T07:47:08.615099+0000 | compress | METRIC - time 1.58s\n",
      "2025-09-13T07:47:08.616324+0000 | compress | METRIC - error 67451.84\n",
      "2025-09-13T07:47:08.617219+0000 | compress | METRIC - GPU 0 | usage: 80.71% | total memory: 48 GB\n",
      "2025-09-13T07:47:08.617595+0000 | compress | METRIC - Compressed module size: 137.381888 MB\n",
      "2025-09-13T07:47:08.618293+0000 | on_sequential_batch_end | INFO - Quantizing model.layers.20.mlp.up_proj using 512 samples\n",
      "2025-09-13T07:47:10.223952+0000 | compress | METRIC - time 1.61s\n",
      "2025-09-13T07:47:10.224972+0000 | compress | METRIC - error 68648.46\n",
      "2025-09-13T07:47:10.225704+0000 | compress | METRIC - GPU 0 | usage: 80.71% | total memory: 48 GB\n",
      "2025-09-13T07:47:10.226136+0000 | compress | METRIC - Compressed module size: 137.381888 MB\n",
      "2025-09-13T07:47:10.226698+0000 | on_sequential_batch_end | INFO - Quantizing model.layers.20.mlp.down_proj using 512 samples\n",
      "2025-09-13T07:47:18.730483+0000 | compress | METRIC - time 8.50s\n",
      "2025-09-13T07:47:18.732974+0000 | compress | METRIC - error 14037.74\n",
      "2025-09-13T07:47:18.733623+0000 | compress | METRIC - GPU 0 | usage: 80.71% | total memory: 48 GB\n",
      "2025-09-13T07:47:18.734155+0000 | compress | METRIC - Compressed module size: 137.381888 MB\n"
     ]
    },
    {
     "name": "stderr",
     "output_type": "stream",
     "text": [
      "(21/29): Propagating: 100%|██████████| 512/512 [00:02<00:00, 183.66it/s]\n",
      "(22/29): Calibrating: 100%|██████████| 512/512 [00:20<00:00, 25.40it/s]"
     ]
    },
    {
     "name": "stdout",
     "output_type": "stream",
     "text": [
      "2025-09-13T07:47:41.680697+0000 | on_sequential_batch_end | INFO - Quantizing model.layers.21.self_attn.q_proj using 512 samples\n"
     ]
    },
    {
     "name": "stderr",
     "output_type": "stream",
     "text": [
      "\n"
     ]
    },
    {
     "name": "stdout",
     "output_type": "stream",
     "text": [
      "2025-09-13T07:47:43.200598+0000 | compress | METRIC - time 1.52s\n",
      "2025-09-13T07:47:43.201659+0000 | compress | METRIC - error 18253.88\n",
      "2025-09-13T07:47:43.202277+0000 | compress | METRIC - GPU 0 | usage: 80.71% | total memory: 48 GB\n",
      "2025-09-13T07:47:43.202680+0000 | compress | METRIC - Compressed module size: 25.998336 MB\n",
      "2025-09-13T07:47:43.203495+0000 | on_sequential_batch_end | INFO - Quantizing model.layers.21.self_attn.k_proj using 512 samples\n",
      "2025-09-13T07:47:44.655408+0000 | compress | METRIC - time 1.45s\n",
      "2025-09-13T07:47:44.656448+0000 | compress | METRIC - error 2607.52\n",
      "2025-09-13T07:47:44.656996+0000 | compress | METRIC - GPU 0 | usage: 80.71% | total memory: 48 GB\n",
      "2025-09-13T07:47:44.657322+0000 | compress | METRIC - Compressed module size: 3.714048 MB\n",
      "2025-09-13T07:47:44.658206+0000 | on_sequential_batch_end | INFO - Quantizing model.layers.21.self_attn.v_proj using 512 samples\n",
      "2025-09-13T07:47:46.118789+0000 | compress | METRIC - time 1.46s\n",
      "2025-09-13T07:47:46.119465+0000 | compress | METRIC - error 4908.81\n",
      "2025-09-13T07:47:46.120195+0000 | compress | METRIC - GPU 0 | usage: 80.71% | total memory: 48 GB\n",
      "2025-09-13T07:47:46.120599+0000 | compress | METRIC - Compressed module size: 3.714048 MB\n",
      "2025-09-13T07:47:46.121436+0000 | on_sequential_batch_end | INFO - Quantizing model.layers.21.self_attn.o_proj using 512 samples\n",
      "2025-09-13T07:47:47.648769+0000 | compress | METRIC - time 1.53s\n",
      "2025-09-13T07:47:47.649743+0000 | compress | METRIC - error 4268.90\n",
      "2025-09-13T07:47:47.650463+0000 | compress | METRIC - GPU 0 | usage: 80.71% | total memory: 48 GB\n",
      "2025-09-13T07:47:47.650839+0000 | compress | METRIC - Compressed module size: 25.991168 MB\n",
      "2025-09-13T07:47:47.651663+0000 | on_sequential_batch_end | INFO - Quantizing model.layers.21.mlp.gate_proj using 512 samples\n",
      "2025-09-13T07:47:49.255637+0000 | compress | METRIC - time 1.60s\n",
      "2025-09-13T07:47:49.256725+0000 | compress | METRIC - error 95260.16\n",
      "2025-09-13T07:47:49.257307+0000 | compress | METRIC - GPU 0 | usage: 80.71% | total memory: 48 GB\n",
      "2025-09-13T07:47:49.257695+0000 | compress | METRIC - Compressed module size: 137.381888 MB\n",
      "2025-09-13T07:47:49.258371+0000 | on_sequential_batch_end | INFO - Quantizing model.layers.21.mlp.up_proj using 512 samples\n",
      "2025-09-13T07:47:50.890864+0000 | compress | METRIC - time 1.63s\n",
      "2025-09-13T07:47:50.891960+0000 | compress | METRIC - error 92783.08\n",
      "2025-09-13T07:47:50.892453+0000 | compress | METRIC - GPU 0 | usage: 80.71% | total memory: 48 GB\n",
      "2025-09-13T07:47:50.892788+0000 | compress | METRIC - Compressed module size: 137.381888 MB\n",
      "2025-09-13T07:47:50.893675+0000 | on_sequential_batch_end | INFO - Quantizing model.layers.21.mlp.down_proj using 512 samples\n",
      "2025-09-13T07:47:59.388266+0000 | compress | METRIC - time 8.49s\n",
      "2025-09-13T07:47:59.390773+0000 | compress | METRIC - error 22061.09\n",
      "2025-09-13T07:47:59.391488+0000 | compress | METRIC - GPU 0 | usage: 80.71% | total memory: 48 GB\n",
      "2025-09-13T07:47:59.391848+0000 | compress | METRIC - Compressed module size: 137.381888 MB\n"
     ]
    },
    {
     "name": "stderr",
     "output_type": "stream",
     "text": [
      "(22/29): Propagating: 100%|██████████| 512/512 [00:02<00:00, 183.70it/s]\n",
      "(23/29): Calibrating: 100%|██████████| 512/512 [00:20<00:00, 25.34it/s]"
     ]
    },
    {
     "name": "stdout",
     "output_type": "stream",
     "text": [
      "2025-09-13T07:48:22.391629+0000 | on_sequential_batch_end | INFO - Quantizing model.layers.22.self_attn.q_proj using 512 samples\n"
     ]
    },
    {
     "name": "stderr",
     "output_type": "stream",
     "text": [
      "\n"
     ]
    },
    {
     "name": "stdout",
     "output_type": "stream",
     "text": [
      "2025-09-13T07:48:23.934766+0000 | compress | METRIC - time 1.54s\n",
      "2025-09-13T07:48:23.935728+0000 | compress | METRIC - error 25928.19\n",
      "2025-09-13T07:48:23.936531+0000 | compress | METRIC - GPU 0 | usage: 80.71% | total memory: 48 GB\n",
      "2025-09-13T07:48:23.937083+0000 | compress | METRIC - Compressed module size: 25.998336 MB\n",
      "2025-09-13T07:48:23.937752+0000 | on_sequential_batch_end | INFO - Quantizing model.layers.22.self_attn.k_proj using 512 samples\n",
      "2025-09-13T07:48:25.399822+0000 | compress | METRIC - time 1.46s\n",
      "2025-09-13T07:48:25.400815+0000 | compress | METRIC - error 3442.48\n",
      "2025-09-13T07:48:25.401412+0000 | compress | METRIC - GPU 0 | usage: 80.71% | total memory: 48 GB\n",
      "2025-09-13T07:48:25.401782+0000 | compress | METRIC - Compressed module size: 3.714048 MB\n",
      "2025-09-13T07:48:25.402798+0000 | on_sequential_batch_end | INFO - Quantizing model.layers.22.self_attn.v_proj using 512 samples\n",
      "2025-09-13T07:48:26.866121+0000 | compress | METRIC - time 1.46s\n",
      "2025-09-13T07:48:26.867116+0000 | compress | METRIC - error 8129.69\n",
      "2025-09-13T07:48:26.867871+0000 | compress | METRIC - GPU 0 | usage: 80.71% | total memory: 48 GB\n",
      "2025-09-13T07:48:26.868270+0000 | compress | METRIC - Compressed module size: 3.714048 MB\n",
      "2025-09-13T07:48:26.869086+0000 | on_sequential_batch_end | INFO - Quantizing model.layers.22.self_attn.o_proj using 512 samples\n",
      "2025-09-13T07:48:28.356172+0000 | compress | METRIC - time 1.49s\n",
      "2025-09-13T07:48:28.357098+0000 | compress | METRIC - error 3224.71\n",
      "2025-09-13T07:48:28.357850+0000 | compress | METRIC - GPU 0 | usage: 80.71% | total memory: 48 GB\n",
      "2025-09-13T07:48:28.358417+0000 | compress | METRIC - Compressed module size: 25.991168 MB\n",
      "2025-09-13T07:48:28.359061+0000 | on_sequential_batch_end | INFO - Quantizing model.layers.22.mlp.gate_proj using 512 samples\n",
      "2025-09-13T07:48:29.988897+0000 | compress | METRIC - time 1.63s\n",
      "2025-09-13T07:48:29.989929+0000 | compress | METRIC - error 134822.16\n",
      "2025-09-13T07:48:29.990663+0000 | compress | METRIC - GPU 0 | usage: 80.71% | total memory: 48 GB\n",
      "2025-09-13T07:48:29.991091+0000 | compress | METRIC - Compressed module size: 137.381888 MB\n",
      "2025-09-13T07:48:29.991959+0000 | on_sequential_batch_end | INFO - Quantizing model.layers.22.mlp.up_proj using 512 samples\n",
      "2025-09-13T07:48:31.571275+0000 | compress | METRIC - time 1.58s\n",
      "2025-09-13T07:48:31.572282+0000 | compress | METRIC - error 133673.98\n",
      "2025-09-13T07:48:31.573064+0000 | compress | METRIC - GPU 0 | usage: 80.71% | total memory: 48 GB\n",
      "2025-09-13T07:48:31.573490+0000 | compress | METRIC - Compressed module size: 137.381888 MB\n",
      "2025-09-13T07:48:31.574436+0000 | on_sequential_batch_end | INFO - Quantizing model.layers.22.mlp.down_proj using 512 samples\n",
      "2025-09-13T07:48:40.170023+0000 | compress | METRIC - time 8.60s\n",
      "2025-09-13T07:48:40.172481+0000 | compress | METRIC - error 37530.16\n",
      "2025-09-13T07:48:40.173081+0000 | compress | METRIC - GPU 0 | usage: 80.71% | total memory: 48 GB\n",
      "2025-09-13T07:48:40.173567+0000 | compress | METRIC - Compressed module size: 137.381888 MB\n"
     ]
    },
    {
     "name": "stderr",
     "output_type": "stream",
     "text": [
      "(23/29): Propagating: 100%|██████████| 512/512 [00:02<00:00, 183.52it/s]\n",
      "(24/29): Calibrating: 100%|██████████| 512/512 [00:20<00:00, 25.09it/s]"
     ]
    },
    {
     "name": "stdout",
     "output_type": "stream",
     "text": [
      "2025-09-13T07:49:03.370124+0000 | on_sequential_batch_end | INFO - Quantizing model.layers.23.self_attn.q_proj using 512 samples\n"
     ]
    },
    {
     "name": "stderr",
     "output_type": "stream",
     "text": [
      "\n"
     ]
    },
    {
     "name": "stdout",
     "output_type": "stream",
     "text": [
      "2025-09-13T07:49:04.880510+0000 | compress | METRIC - time 1.51s\n",
      "2025-09-13T07:49:04.881564+0000 | compress | METRIC - error 29589.67\n",
      "2025-09-13T07:49:04.882324+0000 | compress | METRIC - GPU 0 | usage: 80.71% | total memory: 48 GB\n",
      "2025-09-13T07:49:04.882841+0000 | compress | METRIC - Compressed module size: 25.998336 MB\n",
      "2025-09-13T07:49:04.883431+0000 | on_sequential_batch_end | INFO - Quantizing model.layers.23.self_attn.k_proj using 512 samples\n",
      "2025-09-13T07:49:06.305571+0000 | compress | METRIC - time 1.42s\n",
      "2025-09-13T07:49:06.306648+0000 | compress | METRIC - error 4241.69\n",
      "2025-09-13T07:49:06.307195+0000 | compress | METRIC - GPU 0 | usage: 80.71% | total memory: 48 GB\n",
      "2025-09-13T07:49:06.307680+0000 | compress | METRIC - Compressed module size: 3.714048 MB\n",
      "2025-09-13T07:49:06.308566+0000 | on_sequential_batch_end | INFO - Quantizing model.layers.23.self_attn.v_proj using 512 samples\n",
      "2025-09-13T07:49:07.757461+0000 | compress | METRIC - time 1.45s\n",
      "2025-09-13T07:49:07.758508+0000 | compress | METRIC - error 11055.49\n",
      "2025-09-13T07:49:07.759222+0000 | compress | METRIC - GPU 0 | usage: 80.71% | total memory: 48 GB\n",
      "2025-09-13T07:49:07.759582+0000 | compress | METRIC - Compressed module size: 3.714048 MB\n",
      "2025-09-13T07:49:07.760229+0000 | on_sequential_batch_end | INFO - Quantizing model.layers.23.self_attn.o_proj using 512 samples\n",
      "2025-09-13T07:49:09.220584+0000 | compress | METRIC - time 1.46s\n",
      "2025-09-13T07:49:09.221614+0000 | compress | METRIC - error 6217.53\n",
      "2025-09-13T07:49:09.222367+0000 | compress | METRIC - GPU 0 | usage: 80.71% | total memory: 48 GB\n",
      "2025-09-13T07:49:09.222849+0000 | compress | METRIC - Compressed module size: 25.991168 MB\n",
      "2025-09-13T07:49:09.223765+0000 | on_sequential_batch_end | INFO - Quantizing model.layers.23.mlp.gate_proj using 512 samples\n",
      "2025-09-13T07:49:10.793564+0000 | compress | METRIC - time 1.57s\n",
      "2025-09-13T07:49:10.794478+0000 | compress | METRIC - error 174953.03\n",
      "2025-09-13T07:49:10.795343+0000 | compress | METRIC - GPU 0 | usage: 80.71% | total memory: 48 GB\n",
      "2025-09-13T07:49:10.795746+0000 | compress | METRIC - Compressed module size: 137.381888 MB\n",
      "2025-09-13T07:49:10.796635+0000 | on_sequential_batch_end | INFO - Quantizing model.layers.23.mlp.up_proj using 512 samples\n",
      "2025-09-13T07:49:12.410615+0000 | compress | METRIC - time 1.61s\n",
      "2025-09-13T07:49:12.411672+0000 | compress | METRIC - error 175947.83\n",
      "2025-09-13T07:49:12.412505+0000 | compress | METRIC - GPU 0 | usage: 80.71% | total memory: 48 GB\n",
      "2025-09-13T07:49:12.412950+0000 | compress | METRIC - Compressed module size: 137.381888 MB\n",
      "2025-09-13T07:49:12.413821+0000 | on_sequential_batch_end | INFO - Quantizing model.layers.23.mlp.down_proj using 512 samples\n",
      "2025-09-13T07:49:21.050682+0000 | compress | METRIC - time 8.64s\n",
      "2025-09-13T07:49:21.053206+0000 | compress | METRIC - error 45734.09\n",
      "2025-09-13T07:49:21.053813+0000 | compress | METRIC - GPU 0 | usage: 80.71% | total memory: 48 GB\n",
      "2025-09-13T07:49:21.054304+0000 | compress | METRIC - Compressed module size: 137.381888 MB\n"
     ]
    },
    {
     "name": "stderr",
     "output_type": "stream",
     "text": [
      "(24/29): Propagating: 100%|██████████| 512/512 [00:02<00:00, 183.12it/s]\n",
      "(25/29): Calibrating: 100%|██████████| 512/512 [00:20<00:00, 25.09it/s]"
     ]
    },
    {
     "name": "stdout",
     "output_type": "stream",
     "text": [
      "2025-09-13T07:49:44.257003+0000 | on_sequential_batch_end | INFO - Quantizing model.layers.24.self_attn.q_proj using 512 samples\n"
     ]
    },
    {
     "name": "stderr",
     "output_type": "stream",
     "text": [
      "\n"
     ]
    },
    {
     "name": "stdout",
     "output_type": "stream",
     "text": [
      "2025-09-13T07:49:45.786649+0000 | compress | METRIC - time 1.53s\n",
      "2025-09-13T07:49:45.787592+0000 | compress | METRIC - error 26418.90\n",
      "2025-09-13T07:49:45.788291+0000 | compress | METRIC - GPU 0 | usage: 80.71% | total memory: 48 GB\n",
      "2025-09-13T07:49:45.788676+0000 | compress | METRIC - Compressed module size: 25.998336 MB\n",
      "2025-09-13T07:49:45.789443+0000 | on_sequential_batch_end | INFO - Quantizing model.layers.24.self_attn.k_proj using 512 samples\n",
      "2025-09-13T07:49:47.238049+0000 | compress | METRIC - time 1.45s\n",
      "2025-09-13T07:49:47.239103+0000 | compress | METRIC - error 3574.71\n",
      "2025-09-13T07:49:47.239778+0000 | compress | METRIC - GPU 0 | usage: 80.71% | total memory: 48 GB\n",
      "2025-09-13T07:49:47.240160+0000 | compress | METRIC - Compressed module size: 3.714048 MB\n",
      "2025-09-13T07:49:47.240876+0000 | on_sequential_batch_end | INFO - Quantizing model.layers.24.self_attn.v_proj using 512 samples\n",
      "2025-09-13T07:49:48.653498+0000 | compress | METRIC - time 1.41s\n",
      "2025-09-13T07:49:48.654482+0000 | compress | METRIC - error 11516.51\n",
      "2025-09-13T07:49:48.655233+0000 | compress | METRIC - GPU 0 | usage: 80.71% | total memory: 48 GB\n",
      "2025-09-13T07:49:48.655643+0000 | compress | METRIC - Compressed module size: 3.714048 MB\n",
      "2025-09-13T07:49:48.656403+0000 | on_sequential_batch_end | INFO - Quantizing model.layers.24.self_attn.o_proj using 512 samples\n",
      "2025-09-13T07:49:50.146376+0000 | compress | METRIC - time 1.49s\n",
      "2025-09-13T07:49:50.147598+0000 | compress | METRIC - error 5751.97\n",
      "2025-09-13T07:49:50.148300+0000 | compress | METRIC - GPU 0 | usage: 80.71% | total memory: 48 GB\n",
      "2025-09-13T07:49:50.148761+0000 | compress | METRIC - Compressed module size: 25.991168 MB\n",
      "2025-09-13T07:49:50.149532+0000 | on_sequential_batch_end | INFO - Quantizing model.layers.24.mlp.gate_proj using 512 samples\n",
      "2025-09-13T07:49:51.768425+0000 | compress | METRIC - time 1.62s\n",
      "2025-09-13T07:49:51.769488+0000 | compress | METRIC - error 174083.97\n",
      "2025-09-13T07:49:51.769935+0000 | compress | METRIC - GPU 0 | usage: 80.71% | total memory: 48 GB\n",
      "2025-09-13T07:49:51.770244+0000 | compress | METRIC - Compressed module size: 137.381888 MB\n",
      "2025-09-13T07:49:51.771020+0000 | on_sequential_batch_end | INFO - Quantizing model.layers.24.mlp.up_proj using 512 samples\n",
      "2025-09-13T07:49:53.418668+0000 | compress | METRIC - time 1.65s\n",
      "2025-09-13T07:49:53.419677+0000 | compress | METRIC - error 189505.47\n",
      "2025-09-13T07:49:53.420390+0000 | compress | METRIC - GPU 0 | usage: 80.71% | total memory: 48 GB\n",
      "2025-09-13T07:49:53.420891+0000 | compress | METRIC - Compressed module size: 137.381888 MB\n",
      "2025-09-13T07:49:53.421597+0000 | on_sequential_batch_end | INFO - Quantizing model.layers.24.mlp.down_proj using 512 samples\n",
      "2025-09-13T07:50:01.817033+0000 | compress | METRIC - time 8.39s\n",
      "2025-09-13T07:50:01.819768+0000 | compress | METRIC - error 59719.40\n",
      "2025-09-13T07:50:01.820389+0000 | compress | METRIC - GPU 0 | usage: 80.71% | total memory: 48 GB\n",
      "2025-09-13T07:50:01.820804+0000 | compress | METRIC - Compressed module size: 137.381888 MB\n"
     ]
    },
    {
     "name": "stderr",
     "output_type": "stream",
     "text": [
      "(25/29): Propagating: 100%|██████████| 512/512 [00:02<00:00, 183.52it/s]\n",
      "(26/29): Calibrating: 100%|██████████| 512/512 [00:20<00:00, 25.24it/s]"
     ]
    },
    {
     "name": "stdout",
     "output_type": "stream",
     "text": [
      "2025-09-13T07:50:24.901602+0000 | on_sequential_batch_end | INFO - Quantizing model.layers.25.self_attn.q_proj using 512 samples\n"
     ]
    },
    {
     "name": "stderr",
     "output_type": "stream",
     "text": [
      "\n"
     ]
    },
    {
     "name": "stdout",
     "output_type": "stream",
     "text": [
      "2025-09-13T07:50:26.431280+0000 | compress | METRIC - time 1.53s\n",
      "2025-09-13T07:50:26.432287+0000 | compress | METRIC - error 27929.86\n",
      "2025-09-13T07:50:26.433079+0000 | compress | METRIC - GPU 0 | usage: 80.71% | total memory: 48 GB\n",
      "2025-09-13T07:50:26.433487+0000 | compress | METRIC - Compressed module size: 25.998336 MB\n",
      "2025-09-13T07:50:26.434285+0000 | on_sequential_batch_end | INFO - Quantizing model.layers.25.self_attn.k_proj using 512 samples\n",
      "2025-09-13T07:50:27.893432+0000 | compress | METRIC - time 1.46s\n",
      "2025-09-13T07:50:27.894443+0000 | compress | METRIC - error 3455.37\n",
      "2025-09-13T07:50:27.895181+0000 | compress | METRIC - GPU 0 | usage: 80.71% | total memory: 48 GB\n",
      "2025-09-13T07:50:27.895760+0000 | compress | METRIC - Compressed module size: 3.714048 MB\n",
      "2025-09-13T07:50:27.896409+0000 | on_sequential_batch_end | INFO - Quantizing model.layers.25.self_attn.v_proj using 512 samples\n",
      "2025-09-13T07:50:29.361826+0000 | compress | METRIC - time 1.47s\n",
      "2025-09-13T07:50:29.362880+0000 | compress | METRIC - error 17739.84\n",
      "2025-09-13T07:50:29.363661+0000 | compress | METRIC - GPU 0 | usage: 80.71% | total memory: 48 GB\n",
      "2025-09-13T07:50:29.364039+0000 | compress | METRIC - Compressed module size: 3.714048 MB\n",
      "2025-09-13T07:50:29.364863+0000 | on_sequential_batch_end | INFO - Quantizing model.layers.25.self_attn.o_proj using 512 samples\n",
      "2025-09-13T07:50:30.818751+0000 | compress | METRIC - time 1.45s\n",
      "2025-09-13T07:50:30.819716+0000 | compress | METRIC - error 8372.61\n",
      "2025-09-13T07:50:30.820453+0000 | compress | METRIC - GPU 0 | usage: 80.71% | total memory: 48 GB\n",
      "2025-09-13T07:50:30.820847+0000 | compress | METRIC - Compressed module size: 25.991168 MB\n",
      "2025-09-13T07:50:30.821659+0000 | on_sequential_batch_end | INFO - Quantizing model.layers.25.mlp.gate_proj using 512 samples\n",
      "2025-09-13T07:50:32.403414+0000 | compress | METRIC - time 1.58s\n",
      "2025-09-13T07:50:32.404483+0000 | compress | METRIC - error 196806.02\n",
      "2025-09-13T07:50:32.405282+0000 | compress | METRIC - GPU 0 | usage: 80.71% | total memory: 48 GB\n",
      "2025-09-13T07:50:32.405683+0000 | compress | METRIC - Compressed module size: 137.381888 MB\n",
      "2025-09-13T07:50:32.406511+0000 | on_sequential_batch_end | INFO - Quantizing model.layers.25.mlp.up_proj using 512 samples\n",
      "2025-09-13T07:50:33.975262+0000 | compress | METRIC - time 1.57s\n",
      "2025-09-13T07:50:33.976269+0000 | compress | METRIC - error 223597.44\n",
      "2025-09-13T07:50:33.977019+0000 | compress | METRIC - GPU 0 | usage: 80.71% | total memory: 48 GB\n",
      "2025-09-13T07:50:33.977438+0000 | compress | METRIC - Compressed module size: 137.381888 MB\n",
      "2025-09-13T07:50:33.978203+0000 | on_sequential_batch_end | INFO - Quantizing model.layers.25.mlp.down_proj using 512 samples\n",
      "2025-09-13T07:50:42.618035+0000 | compress | METRIC - time 8.64s\n",
      "2025-09-13T07:50:42.620585+0000 | compress | METRIC - error 87587.73\n",
      "2025-09-13T07:50:42.621262+0000 | compress | METRIC - GPU 0 | usage: 80.71% | total memory: 48 GB\n",
      "2025-09-13T07:50:42.621631+0000 | compress | METRIC - Compressed module size: 137.381888 MB\n"
     ]
    },
    {
     "name": "stderr",
     "output_type": "stream",
     "text": [
      "(26/29): Propagating: 100%|██████████| 512/512 [00:02<00:00, 184.06it/s]\n",
      "(27/29): Calibrating: 100%|██████████| 512/512 [00:20<00:00, 24.93it/s]"
     ]
    },
    {
     "name": "stdout",
     "output_type": "stream",
     "text": [
      "2025-09-13T07:51:05.946176+0000 | on_sequential_batch_end | INFO - Quantizing model.layers.26.self_attn.q_proj using 512 samples\n"
     ]
    },
    {
     "name": "stderr",
     "output_type": "stream",
     "text": [
      "\n"
     ]
    },
    {
     "name": "stdout",
     "output_type": "stream",
     "text": [
      "2025-09-13T07:51:07.483944+0000 | compress | METRIC - time 1.54s\n",
      "2025-09-13T07:51:07.485062+0000 | compress | METRIC - error 35148.51\n",
      "2025-09-13T07:51:07.485890+0000 | compress | METRIC - GPU 0 | usage: 80.71% | total memory: 48 GB\n",
      "2025-09-13T07:51:07.486292+0000 | compress | METRIC - Compressed module size: 25.998336 MB\n",
      "2025-09-13T07:51:07.487028+0000 | on_sequential_batch_end | INFO - Quantizing model.layers.26.self_attn.k_proj using 512 samples\n",
      "2025-09-13T07:51:08.910827+0000 | compress | METRIC - time 1.42s\n",
      "2025-09-13T07:51:08.911780+0000 | compress | METRIC - error 4350.17\n",
      "2025-09-13T07:51:08.912463+0000 | compress | METRIC - GPU 0 | usage: 80.71% | total memory: 48 GB\n",
      "2025-09-13T07:51:08.912959+0000 | compress | METRIC - Compressed module size: 3.714048 MB\n",
      "2025-09-13T07:51:08.913555+0000 | on_sequential_batch_end | INFO - Quantizing model.layers.26.self_attn.v_proj using 512 samples\n",
      "2025-09-13T07:51:10.345379+0000 | compress | METRIC - time 1.43s\n",
      "2025-09-13T07:51:10.346505+0000 | compress | METRIC - error 32665.17\n",
      "2025-09-13T07:51:10.347226+0000 | compress | METRIC - GPU 0 | usage: 80.71% | total memory: 48 GB\n",
      "2025-09-13T07:51:10.347615+0000 | compress | METRIC - Compressed module size: 3.714048 MB\n",
      "2025-09-13T07:51:10.348345+0000 | on_sequential_batch_end | INFO - Quantizing model.layers.26.self_attn.o_proj using 512 samples\n",
      "2025-09-13T07:51:11.806110+0000 | compress | METRIC - time 1.46s\n",
      "2025-09-13T07:51:11.807116+0000 | compress | METRIC - error 12224.60\n",
      "2025-09-13T07:51:11.807843+0000 | compress | METRIC - GPU 0 | usage: 80.71% | total memory: 48 GB\n",
      "2025-09-13T07:51:11.808376+0000 | compress | METRIC - Compressed module size: 25.991168 MB\n",
      "2025-09-13T07:51:11.808995+0000 | on_sequential_batch_end | INFO - Quantizing model.layers.26.mlp.gate_proj using 512 samples\n",
      "2025-09-13T07:51:13.450996+0000 | compress | METRIC - time 1.64s\n",
      "2025-09-13T07:51:13.452019+0000 | compress | METRIC - error 194891.12\n",
      "2025-09-13T07:51:13.452806+0000 | compress | METRIC - GPU 0 | usage: 80.71% | total memory: 48 GB\n",
      "2025-09-13T07:51:13.453229+0000 | compress | METRIC - Compressed module size: 137.381888 MB\n",
      "2025-09-13T07:51:13.453976+0000 | on_sequential_batch_end | INFO - Quantizing model.layers.26.mlp.up_proj using 512 samples\n",
      "2025-09-13T07:51:15.069452+0000 | compress | METRIC - time 1.61s\n",
      "2025-09-13T07:51:15.070475+0000 | compress | METRIC - error 223697.58\n",
      "2025-09-13T07:51:15.071157+0000 | compress | METRIC - GPU 0 | usage: 80.71% | total memory: 48 GB\n",
      "2025-09-13T07:51:15.071508+0000 | compress | METRIC - Compressed module size: 137.381888 MB\n",
      "2025-09-13T07:51:15.072199+0000 | on_sequential_batch_end | INFO - Quantizing model.layers.26.mlp.down_proj using 512 samples\n",
      "2025-09-13T07:51:23.503157+0000 | compress | METRIC - time 8.43s\n",
      "2025-09-13T07:51:23.505695+0000 | compress | METRIC - error 254440.08\n",
      "2025-09-13T07:51:23.506414+0000 | compress | METRIC - GPU 0 | usage: 80.71% | total memory: 48 GB\n",
      "2025-09-13T07:51:23.506745+0000 | compress | METRIC - Compressed module size: 137.381888 MB\n"
     ]
    },
    {
     "name": "stderr",
     "output_type": "stream",
     "text": [
      "(27/29): Propagating: 100%|██████████| 512/512 [00:02<00:00, 183.36it/s]\n",
      "(28/29): Calibrating: 100%|██████████| 512/512 [00:20<00:00, 25.25it/s]"
     ]
    },
    {
     "name": "stdout",
     "output_type": "stream",
     "text": [
      "2025-09-13T07:51:46.576926+0000 | on_sequential_batch_end | INFO - Quantizing model.layers.27.self_attn.q_proj using 512 samples\n"
     ]
    },
    {
     "name": "stderr",
     "output_type": "stream",
     "text": [
      "\n"
     ]
    },
    {
     "name": "stdout",
     "output_type": "stream",
     "text": [
      "2025-09-13T07:51:48.126533+0000 | compress | METRIC - time 1.55s\n",
      "2025-09-13T07:51:48.127559+0000 | compress | METRIC - error 47852.18\n",
      "2025-09-13T07:51:48.128311+0000 | compress | METRIC - GPU 0 | usage: 80.71% | total memory: 48 GB\n",
      "2025-09-13T07:51:48.128711+0000 | compress | METRIC - Compressed module size: 25.998336 MB\n",
      "2025-09-13T07:51:48.129523+0000 | on_sequential_batch_end | INFO - Quantizing model.layers.27.self_attn.k_proj using 512 samples\n",
      "2025-09-13T07:51:49.598994+0000 | compress | METRIC - time 1.47s\n",
      "2025-09-13T07:51:49.600091+0000 | compress | METRIC - error 5286.56\n",
      "2025-09-13T07:51:49.600903+0000 | compress | METRIC - GPU 0 | usage: 80.71% | total memory: 48 GB\n",
      "2025-09-13T07:51:49.601292+0000 | compress | METRIC - Compressed module size: 3.714048 MB\n",
      "2025-09-13T07:51:49.602141+0000 | on_sequential_batch_end | INFO - Quantizing model.layers.27.self_attn.v_proj using 512 samples\n",
      "2025-09-13T07:51:51.065393+0000 | compress | METRIC - time 1.46s\n",
      "2025-09-13T07:51:51.066476+0000 | compress | METRIC - error 39865.83\n",
      "2025-09-13T07:51:51.067225+0000 | compress | METRIC - GPU 0 | usage: 80.71% | total memory: 48 GB\n",
      "2025-09-13T07:51:51.067650+0000 | compress | METRIC - Compressed module size: 3.714048 MB\n",
      "2025-09-13T07:51:51.068434+0000 | on_sequential_batch_end | INFO - Quantizing model.layers.27.self_attn.o_proj using 512 samples\n",
      "2025-09-13T07:51:52.532430+0000 | compress | METRIC - time 1.46s\n",
      "2025-09-13T07:51:52.533431+0000 | compress | METRIC - error 16475.22\n",
      "2025-09-13T07:51:52.534151+0000 | compress | METRIC - GPU 0 | usage: 80.71% | total memory: 48 GB\n",
      "2025-09-13T07:51:52.534570+0000 | compress | METRIC - Compressed module size: 25.991168 MB\n",
      "2025-09-13T07:51:52.535323+0000 | on_sequential_batch_end | INFO - Quantizing model.layers.27.mlp.gate_proj using 512 samples\n",
      "2025-09-13T07:51:54.106825+0000 | compress | METRIC - time 1.57s\n",
      "2025-09-13T07:51:54.107875+0000 | compress | METRIC - error 220649.64\n",
      "2025-09-13T07:51:54.108623+0000 | compress | METRIC - GPU 0 | usage: 80.71% | total memory: 48 GB\n",
      "2025-09-13T07:51:54.108996+0000 | compress | METRIC - Compressed module size: 137.381888 MB\n",
      "2025-09-13T07:51:54.109805+0000 | on_sequential_batch_end | INFO - Quantizing model.layers.27.mlp.up_proj using 512 samples\n",
      "2025-09-13T07:51:55.726124+0000 | compress | METRIC - time 1.62s\n",
      "2025-09-13T07:51:55.726795+0000 | compress | METRIC - error 231430.75\n",
      "2025-09-13T07:51:55.727605+0000 | compress | METRIC - GPU 0 | usage: 80.71% | total memory: 48 GB\n",
      "2025-09-13T07:51:55.728153+0000 | compress | METRIC - Compressed module size: 137.381888 MB\n",
      "2025-09-13T07:51:55.728866+0000 | on_sequential_batch_end | INFO - Quantizing model.layers.27.mlp.down_proj using 512 samples\n",
      "2025-09-13T07:52:04.506700+0000 | compress | METRIC - time 8.78s\n",
      "2025-09-13T07:52:04.509292+0000 | compress | METRIC - error 357858.44\n",
      "2025-09-13T07:52:04.509929+0000 | compress | METRIC - GPU 0 | usage: 80.71% | total memory: 48 GB\n",
      "2025-09-13T07:52:04.510291+0000 | compress | METRIC - Compressed module size: 137.381888 MB\n"
     ]
    },
    {
     "name": "stderr",
     "output_type": "stream",
     "text": [
      "(28/29): Propagating: 100%|██████████| 512/512 [00:02<00:00, 183.68it/s]\n",
      "(29/29): Calibrating: 100%|██████████| 512/512 [00:03<00:00, 138.50it/s]\n",
      "(29/29): Propagating: 100%|██████████| 512/512 [00:03<00:00, 137.09it/s]\n",
      "manager stage: Modifiers initialized\n"
     ]
    },
    {
     "name": "stdout",
     "output_type": "stream",
     "text": [
      "2025-09-13T07:52:14.741983+0000 | initialize | INFO - Compression lifecycle initialized for 1 modifiers\n"
     ]
    },
    {
     "name": "stderr",
     "output_type": "stream",
     "text": [
      "manager stage: Modifiers finalized\n"
     ]
    },
    {
     "name": "stdout",
     "output_type": "stream",
     "text": [
      "2025-09-13T07:52:14.743829+0000 | finalize | INFO - Compression lifecycle finalized for 1 modifiers\n",
      "2025-09-13T07:52:14.744280+0000 | post_process | WARNING - Optimized model is not saved. To save, please provide`output_dir` as input arg.Ex. `oneshot(..., output_dir=...)`\n"
     ]
    }
   ],
   "source": [
    "# oneshot modifies model in-place, so reload\n",
    "model = AutoModelForCausalLM.from_pretrained(\n",
    "    model_id, device_map=\"auto\", torch_dtype=\"auto\"\n",
    ")\n",
    "# run oneshot again, with dataset\n",
    "model = oneshot(\n",
    "    model=model,\n",
    "    dataset=ds,\n",
    "    recipe=recipe,\n",
    "    max_seq_length=max_sequence_length,\n",
    "    num_calibration_samples=num_calibration_samples,\n",
    ")"
   ]
  },
  {
   "cell_type": "code",
   "execution_count": 13,
   "metadata": {},
   "outputs": [
    {
     "name": "stdout",
     "output_type": "stream",
     "text": [
      "2025-09-13T07:52:14.771475+0000 | save_pretrained_wrapper | INFO - Fetching state_dict - this may take some time\n",
      "2025-09-13T07:52:42.336209+0000 | save_pretrained_wrapper | INFO - Fetching compressor\n",
      "2025-09-13T07:52:42.337006+0000 | get_model_compressor | INFO - skip_sparsity_compression_stats set to True. Skipping sparsity compression statistic calculations. No sparsity compressor will be applied.\n"
     ]
    },
    {
     "name": "stderr",
     "output_type": "stream",
     "text": [
      "Quantized Compression: 100%|██████████| 731/731 [00:40<00:00, 17.87it/s]"
     ]
    },
    {
     "name": "stdout",
     "output_type": "stream",
     "text": [
      "2025-09-13T07:53:23.252101+0000 | save_pretrained_wrapper | INFO - Saving compressed model to disk\n"
     ]
    },
    {
     "name": "stderr",
     "output_type": "stream",
     "text": [
      "\n"
     ]
    }
   ],
   "source": [
    "# Save model and tokenizer\n",
    "model_dir = \"./\" + model_id.split(\"/\")[-1] + \"-GPTQ-W4A16\"\n",
    "model.save_pretrained(model_dir)\n",
    "tokenizer.save_pretrained(model_dir);"
   ]
  },
  {
   "cell_type": "markdown",
   "metadata": {},
   "source": [
    "### 4\\) Rerun `lm_eval`\n",
    "\n",
    "Note that perplexity score has improved (lower is better) for this `TinyLlama` model. "
   ]
  },
  {
   "cell_type": "code",
   "execution_count": 14,
   "metadata": {},
   "outputs": [
    {
     "name": "stderr",
     "output_type": "stream",
     "text": [
      "[2025-09-13 07:53:56] INFO evaluator.py:169: Setting random seed to 0 | Setting numpy seed to 1234 | Setting torch manual seed to 1234 | Setting fewshot manual seed to 1234\n",
      "[2025-09-13 07:53:56] INFO evaluator.py:193: Initializing vllm model, with arguments: {'pretrained': './Qwen2.5-7B-Instruct-GPTQ-W4A16', 'add_bos_token': True, 'device': 'auto'}\n"
     ]
    },
    {
     "name": "stdout",
     "output_type": "stream",
     "text": [
      "INFO 09-13 07:53:56 [config.py:717] This model supports multiple tasks: {'embed', 'classify', 'score', 'reward', 'generate'}. Defaulting to 'generate'.\n",
      "INFO 09-13 07:53:56 [config.py:2003] Chunked prefill is enabled with max_num_batched_tokens=8192.\n",
      "INFO 09-13 07:54:00 [__init__.py:239] Automatically detected platform cuda.\n",
      "INFO 09-13 07:54:03 [core.py:58] Initializing a V1 LLM engine (v0.8.5) with config: model='./Qwen2.5-7B-Instruct-GPTQ-W4A16', speculative_config=None, tokenizer='./Qwen2.5-7B-Instruct-GPTQ-W4A16', skip_tokenizer_init=False, tokenizer_mode=auto, revision=None, override_neuron_config=None, tokenizer_revision=None, trust_remote_code=False, dtype=torch.bfloat16, max_seq_len=32768, download_dir=None, load_format=LoadFormat.AUTO, tensor_parallel_size=1, pipeline_parallel_size=1, disable_custom_all_reduce=False, quantization=compressed-tensors, enforce_eager=False, kv_cache_dtype=auto,  device_config=cuda, decoding_config=DecodingConfig(guided_decoding_backend='auto', reasoning_backend=None), observability_config=ObservabilityConfig(show_hidden_metrics=False, otlp_traces_endpoint=None, collect_model_forward_time=False, collect_model_execute_time=False), seed=1234, served_model_name=./Qwen2.5-7B-Instruct-GPTQ-W4A16, num_scheduler_steps=1, multi_step_stream_outputs=True, enable_prefix_caching=True, chunked_prefill_enabled=True, use_async_output_proc=True, disable_mm_preprocessor_cache=False, mm_processor_kwargs=None, pooler_config=None, compilation_config={\"level\":3,\"custom_ops\":[\"none\"],\"splitting_ops\":[\"vllm.unified_attention\",\"vllm.unified_attention_with_output\"],\"use_inductor\":true,\"compile_sizes\":[],\"use_cudagraph\":true,\"cudagraph_num_of_warmups\":1,\"cudagraph_capture_sizes\":[512,504,496,488,480,472,464,456,448,440,432,424,416,408,400,392,384,376,368,360,352,344,336,328,320,312,304,296,288,280,272,264,256,248,240,232,224,216,208,200,192,184,176,168,160,152,144,136,128,120,112,104,96,88,80,72,64,56,48,40,32,24,16,8,4,2,1],\"max_capture_size\":512}\n",
      "WARNING 09-13 07:54:03 [utils.py:2522] Methods determine_num_available_blocks,device_config,get_cache_block_size_bytes,initialize_cache not implemented in <vllm.v1.worker.gpu_worker.Worker object at 0x7f4326bcfd50>\n",
      "INFO 09-13 07:54:03 [parallel_state.py:1004] rank 0 in world size 1 is assigned as DP rank 0, PP rank 0, TP rank 0\n",
      "INFO 09-13 07:54:03 [cuda.py:221] Using Flash Attention backend on V1 engine.\n",
      "WARNING 09-13 07:54:03 [topk_topp_sampler.py:69] FlashInfer is not available. Falling back to the PyTorch-native implementation of top-p & top-k sampling. For the best performance, please install FlashInfer.\n",
      "INFO 09-13 07:54:03 [gpu_model_runner.py:1329] Starting to load model ./Qwen2.5-7B-Instruct-GPTQ-W4A16...\n",
      "INFO 09-13 07:54:03 [compressed_tensors_wNa16.py:94] Using MarlinLinearKernel for CompressedTensorsWNA16\n"
     ]
    },
    {
     "name": "stderr",
     "output_type": "stream",
     "text": [
      "Loading safetensors checkpoint shards:   0% Completed | 0/2 [00:00<?, ?it/s]\n",
      "Loading safetensors checkpoint shards:  50% Completed | 1/2 [00:00<00:00,  8.33it/s]\n",
      "Loading safetensors checkpoint shards: 100% Completed | 2/2 [00:00<00:00,  2.40it/s]\n",
      "Loading safetensors checkpoint shards: 100% Completed | 2/2 [00:00<00:00,  2.69it/s]\n",
      "\n"
     ]
    },
    {
     "name": "stdout",
     "output_type": "stream",
     "text": [
      "INFO 09-13 07:54:04 [loader.py:458] Loading weights took 0.88 seconds\n",
      "WARNING 09-13 07:54:04 [kv_cache.py:128] Using Q scale 1.0 and prob scale 1.0 with fp8 attention. This may cause accuracy issues. Please make sure Q/prob scaling factors are available in the fp8 checkpoint.\n",
      "INFO 09-13 07:54:05 [gpu_model_runner.py:1347] Model loading took 5.1816 GiB and 1.111515 seconds\n",
      "INFO 09-13 07:54:13 [backends.py:420] Using cache directory: /opt/app-root/src/.cache/vllm/torch_compile_cache/81f807d350/rank_0_0 for vLLM's torch.compile\n",
      "INFO 09-13 07:54:13 [backends.py:430] Dynamo bytecode transform time: 8.42 s\n",
      "INFO 09-13 07:54:16 [backends.py:136] Cache the graph of shape None for later use\n",
      "INFO 09-13 07:54:45 [backends.py:148] Compiling a graph for general shape takes 31.06 s\n",
      "INFO 09-13 07:55:00 [monitor.py:33] torch.compile takes 39.48 s in total\n",
      "INFO 09-13 07:55:01 [kv_cache_utils.py:634] GPU KV cache size: 62,784 tokens\n",
      "INFO 09-13 07:55:01 [kv_cache_utils.py:637] Maximum concurrency for 32,768 tokens per request: 1.92x\n",
      "INFO 09-13 07:55:30 [gpu_model_runner.py:1686] Graph capturing finished in 29 secs, took 0.53 GiB\n",
      "INFO 09-13 07:55:30 [core.py:159] init engine (profile, create kv cache, warmup model) took 85.64 seconds\n",
      "INFO 09-13 07:55:30 [core_client.py:439] Core engine process 0 ready.\n"
     ]
    },
    {
     "name": "stderr",
     "output_type": "stream",
     "text": [
      "[2025-09-13 07:55:45] INFO task.py:420: Building contexts for gsm8k on rank 0...\n",
      "100%|██████████| 1319/1319 [00:03<00:00, 352.42it/s]\n",
      "[2025-09-13 07:55:49] INFO evaluator.py:517: Running generate_until requests\n",
      "Running generate_until requests:   0%|          | 0/1319 [00:00<?, ?it/s]"
     ]
    },
    {
     "data": {
      "application/vnd.jupyter.widget-view+json": {
       "model_id": "eaeb9881f7ad45b1b9054700ad92fa1d",
       "version_major": 2,
       "version_minor": 0
      },
      "text/plain": [
       "Processed prompts:   0%|          | 0/1319 [00:00<?, ?it/s, est. speed input: 0.00 toks/s, output: 0.00 toks/s…"
      ]
     },
     "metadata": {},
     "output_type": "display_data"
    },
    {
     "name": "stderr",
     "output_type": "stream",
     "text": [
      "Running generate_until requests: 100%|██████████| 1319/1319 [02:49<00:00,  7.80it/s] \n",
      "[rank0]:[W913 07:58:42.236255874 ProcessGroupNCCL.cpp:1496] Warning: WARNING: destroy_process_group() was not called before program exit, which can leak resources. For more info, please see https://pytorch.org/docs/stable/distributed.html#shutdown (function operator())\n"
     ]
    }
   ],
   "source": [
    "results_gptq_w4a16 = lm_eval.simple_evaluate(\n",
    "    model=\"vllm\" if use_gpu else \"hf\",\n",
    "    model_args={\n",
    "        \"pretrained\": model_dir,\n",
    "        \"add_bos_token\": True,\n",
    "        \"device\": \"auto\"\n",
    "    },\n",
    "    tasks=[\"gsm8k\"],\n",
    "    batch_size=\"auto\" if use_gpu else 4,\n",
    "    limit=None if use_gpu else 4,\n",
    ")"
   ]
  },
  {
   "cell_type": "code",
   "execution_count": 15,
   "metadata": {},
   "outputs": [
    {
     "name": "stdout",
     "output_type": "stream",
     "text": [
      "|Tasks|Version|     Filter     |n-shot|  Metric   |   |Value |   |Stderr|\n",
      "|-----|------:|----------------|-----:|-----------|---|-----:|---|-----:|\n",
      "|gsm8k|      3|flexible-extract|     5|exact_match|↑  |0.7961|±  |0.0111|\n",
      "|     |       |strict-match    |     5|exact_match|↑  |0.7422|±  |0.0120|\n",
      "\n"
     ]
    }
   ],
   "source": [
    "print(make_table(results_gptq_w4a16))"
   ]
  },
  {
   "cell_type": "code",
   "execution_count": 27,
   "metadata": {},
   "outputs": [
    {
     "data": {
      "image/png": "[encoded data removed]",
      "text/plain": [
       "<Figure size 800x500 with 1 Axes>"
      ]
     },
     "metadata": {},
     "output_type": "display_data"
    }
   ],
   "source": [
    "import matplotlib.pyplot as plt\n",
    "import numpy as np\n",
    "\n",
    "# Collect results into a list for easy iteration\n",
    "results_list = [results_baseline, results_w4a16, results_gptq_w4a16]\n",
    "model_names = ['Baseline', 'W4A16', 'GPTQ-W4A16']\n",
    "\n",
    "# Extract the single metric\n",
    "metric_key = \"exact_match,strict-match\"\n",
    "values = [r[\"results\"][\"gsm8k\"][metric_key] for r in results_list]\n",
    "\n",
    "# Convert to numpy array\n",
    "values = np.array(values)\n",
    "\n",
    "# Plot settings\n",
    "plt.figure(figsize=(8, 5))\n",
    "bars = plt.bar(model_names, values, color=['#4c72b0', '#55a868', '#c44e52'])\n",
    "\n",
    "# Labels and title\n",
    "plt.ylabel(\"Value (Higher is better)\")\n",
    "plt.xlabel(model_id)\n",
    "plt.title(\"GSM-8K (5-shot, strict-match)\")\n",
    "\n",
    "# Display values on top of each bar\n",
    "for bar in bars:\n",
    "    yval = bar.get_height()\n",
    "    plt.text(bar.get_x() + bar.get_width()/2, yval + 0.02, f\"{yval:.3f}\", ha='center', fontsize=9)\n",
    "\n",
    "plt.tight_layout()\n",
    "plt.show()"
   ]
  },
  {
   "cell_type": "code",
   "execution_count": 31,
   "metadata": {},
   "outputs": [
    {
     "name": "stdout",
     "output_type": "stream",
     "text": [
      "     Model  GSM-8K (5-shot, strict-match)  Recovery (%)\n",
      "  Baseline                          0.809       100.000\n",
      "     W4A16                          0.806        99.625\n",
      "GPTQ-W4A16                          0.742        91.753\n"
     ]
    }
   ],
   "source": [
    "import pandas as pd\n",
    "\n",
    "# Define model names\n",
    "model_names = ['Baseline', 'W4A16', 'GPTQ-W4A16']\n",
    "\n",
    "# Metrics we want to track\n",
    "metrics = [\n",
    "    (\"exact_match,strict-match\", \"GSM-8K (5-shot, strict-match)\"),    \n",
    "]\n",
    "\n",
    "# Extract values for each metric\n",
    "results_list = [results_baseline, results_w4a16, results_gptq_w4a16]\n",
    "\n",
    "# Prepare a dictionary to build the DataFrame\n",
    "data = {\"Model\": model_names}\n",
    "\n",
    "# For each metric, add the raw values and the recovery rates\n",
    "for key, label in metrics:\n",
    "    # Extract raw values\n",
    "    values = [r[\"results\"][\"gsm8k\"][key] for r in results_list]\n",
    "\n",
    "    # Calculate recovery rate relative to baseline\n",
    "    baseline = values[0]\n",
    "    recovery = [\n",
    "        100 if i == 0 else (v / baseline  * 100) for i, v in enumerate(values)\n",
    "    ]\n",
    "    \n",
    "    # Add to table, placing recovery column right next to its metric\n",
    "    data[label] = values\n",
    "    data[f\"Recovery (%)\"] = recovery\n",
    "\n",
    "# Create DataFrame\n",
    "table = pd.DataFrame(data)\n",
    "\n",
    "# Format nicely\n",
    "pd.set_option('display.float_format', '{:.3f}'.format)\n",
    "print(table.to_string(index=False))"
   ]
  },
  {
   "cell_type": "code",
   "execution_count": null,
   "metadata": {},
   "outputs": [],
   "source": []
  }
 ],
 "metadata": {
  "kernelspec": {
   "display_name": "Python 3.11",
   "language": "python",
   "name": "python3"
  },
  "language_info": {
   "codemirror_mode": {
    "name": "ipython",
    "version": 3
   },
   "file_extension": ".py",
   "mimetype": "text/x-python",
   "name": "python",
   "nbconvert_exporter": "python",
   "pygments_lexer": "ipython3",
   "version": "3.11.9"
  }
 },
 "nbformat": 4,
 "nbformat_minor": 4
}
